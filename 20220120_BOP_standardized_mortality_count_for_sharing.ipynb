{
 "cells": [
  {
   "cell_type": "markdown",
   "id": "hearing-excerpt",
   "metadata": {},
   "source": [
    "# Understanding mortality rates in BOP-operated prisons during 2020-2021<br>\n",
    "NPR obtained a database of people who died in BOP-operated prisons in through Freedom of Information Act requests filed by NPR also requests filed by Professor Alison Guernsey at University of Iowa, shared with NPR. We compared mortality rates during bewteen 2020 and 2021 with previous years, adjusting for age. We found that mortality rates in BOP facilities in 2020 and 2021 have been higher than the five years before the pandemic.<br>"
   ]
  },
  {
   "cell_type": "code",
   "execution_count": 1,
   "id": "alternate-rings",
   "metadata": {},
   "outputs": [],
   "source": [
    "import pandas as pd\n",
    "import numpy as np\n",
    "import os\n",
    "import matplotlib.pyplot as plt\n",
    "import json\n",
    "import datetime as dt\n",
    "from datetime import datetime, date\n",
    "from scipy import interpolate\n",
    "pd.set_option('display.max_rows', 500)\n",
    "pd.set_option('use_inf_as_na', True)\n",
    "os. getcwd()\n",
    "flatten = lambda t: [item for sublist in t for item in sublist]"
   ]
  },
  {
   "cell_type": "markdown",
   "id": "chief-breath",
   "metadata": {},
   "source": [
    "### Importing death data\n",
    "Death data preprocessing see separate notebook"
   ]
  },
  {
   "cell_type": "code",
   "execution_count": 2,
   "id": "metropolitan-luxembourg",
   "metadata": {},
   "outputs": [],
   "source": [
    "# death data obtained through two FOIA requests\n",
    "death01 = pd.read_excel('Jan2009-May2021 Deaths Analyzed.xlsx','FOIA JAN 2009 - November 2019')\n",
    "death02 = pd.read_csv('20211217_2019_2021_deaths.csv')\n",
    "# death data shared by Alison Guernsey at University of Iowa\n",
    "death03 = pd.read_csv('20220208_BOP_deaths_Apr_21_Jan_22.csv')"
   ]
  },
  {
   "cell_type": "code",
   "execution_count": 3,
   "id": "outer-enzyme",
   "metadata": {},
   "outputs": [],
   "source": [
    "death03 = death03.rename(columns = {'faclCode':'InstID',\n",
    "                                   'BOP_RegisterNum':'RegisterNum',\n",
    "                                   'actRelDate':'DOD',\n",
    "                                   'age':'api_age',\n",
    "                                   'sex':'api_sex',\n",
    "                                   'race':'api_race'})"
   ]
  },
  {
   "cell_type": "markdown",
   "id": "shared-montreal",
   "metadata": {},
   "source": [
    "These deaths include privately operated facilities before 2019. We exclude them from the analysis because a) we don't have the post 2019 deaths in privately operated facilities, and b) situations in privately operated facilities are opaque, we have less on-the-ground reporting for them and don't know how similar they are to BOP-operated facilities."
   ]
  },
  {
   "cell_type": "code",
   "execution_count": 4,
   "id": "monetary-litigation",
   "metadata": {},
   "outputs": [],
   "source": [
    "# convert string in the date fields to date time \n",
    "def find_date(x):\n",
    "    try:\n",
    "        res = pd.to_datetime(x)\n",
    "    except Exception:\n",
    "        res = np.nan\n",
    "    return res"
   ]
  },
  {
   "cell_type": "code",
   "execution_count": 5,
   "id": "lasting-maine",
   "metadata": {},
   "outputs": [],
   "source": [
    "#stitching the three death databases together\n",
    "deathmasterraw = pd.concat([death01,death02, death03])"
   ]
  },
  {
   "cell_type": "code",
   "execution_count": 6,
   "id": "imported-notice",
   "metadata": {
    "scrolled": true
   },
   "outputs": [
    {
     "data": {
      "text/html": [
       "<div>\n",
       "<style scoped>\n",
       "    .dataframe tbody tr th:only-of-type {\n",
       "        vertical-align: middle;\n",
       "    }\n",
       "\n",
       "    .dataframe tbody tr th {\n",
       "        vertical-align: top;\n",
       "    }\n",
       "\n",
       "    .dataframe thead th {\n",
       "        text-align: right;\n",
       "    }\n",
       "</style>\n",
       "<table border=\"1\" class=\"dataframe\">\n",
       "  <thead>\n",
       "    <tr style=\"text-align: right;\">\n",
       "      <th></th>\n",
       "      <th></th>\n",
       "      <th>Unnamed: 0</th>\n",
       "      <th>InmateName</th>\n",
       "      <th>InstID</th>\n",
       "      <th>RegisterNum</th>\n",
       "      <th>DOD</th>\n",
       "      <th>DeathType</th>\n",
       "      <th>api_nameLast</th>\n",
       "      <th>api_nameFirst</th>\n",
       "      <th>api_nameMiddle</th>\n",
       "      <th>...</th>\n",
       "      <th>nameFirst</th>\n",
       "      <th>nameMiddle</th>\n",
       "      <th>inmateNum</th>\n",
       "      <th>inmateNumType</th>\n",
       "      <th>releaseCode</th>\n",
       "      <th>faclName</th>\n",
       "      <th>faclType</th>\n",
       "      <th>faclURL</th>\n",
       "      <th>projRelDate</th>\n",
       "      <th>suffix</th>\n",
       "    </tr>\n",
       "  </thead>\n",
       "  <tbody>\n",
       "    <tr>\n",
       "      <th>0</th>\n",
       "      <td>0.0</td>\n",
       "      <td>0</td>\n",
       "      <td>Calderon, Jamie</td>\n",
       "      <td>OTV</td>\n",
       "      <td>01320-049</td>\n",
       "      <td>2009-01-01 00:00:00</td>\n",
       "      <td>Accidental</td>\n",
       "      <td>calderon</td>\n",
       "      <td>jamie</td>\n",
       "      <td>NaN</td>\n",
       "      <td>...</td>\n",
       "      <td>NaN</td>\n",
       "      <td>NaN</td>\n",
       "      <td>NaN</td>\n",
       "      <td>NaN</td>\n",
       "      <td>NaN</td>\n",
       "      <td>NaN</td>\n",
       "      <td>NaN</td>\n",
       "      <td>NaN</td>\n",
       "      <td>NaN</td>\n",
       "      <td>NaN</td>\n",
       "    </tr>\n",
       "    <tr>\n",
       "      <th>1</th>\n",
       "      <td>2.0</td>\n",
       "      <td>2</td>\n",
       "      <td>Harris, William  Jr</td>\n",
       "      <td>BTF</td>\n",
       "      <td>05023-095</td>\n",
       "      <td>2009-01-02 00:00:00</td>\n",
       "      <td>Natural Causes</td>\n",
       "      <td>harris</td>\n",
       "      <td>william</td>\n",
       "      <td>NaN</td>\n",
       "      <td>...</td>\n",
       "      <td>NaN</td>\n",
       "      <td>NaN</td>\n",
       "      <td>NaN</td>\n",
       "      <td>NaN</td>\n",
       "      <td>NaN</td>\n",
       "      <td>NaN</td>\n",
       "      <td>NaN</td>\n",
       "      <td>NaN</td>\n",
       "      <td>NaN</td>\n",
       "      <td>NaN</td>\n",
       "    </tr>\n",
       "    <tr>\n",
       "      <th>2</th>\n",
       "      <td>1.0</td>\n",
       "      <td>1</td>\n",
       "      <td>Shorrt, Darryl</td>\n",
       "      <td>BUH</td>\n",
       "      <td>54731-019</td>\n",
       "      <td>2009-01-02 00:00:00</td>\n",
       "      <td>Natural Causes</td>\n",
       "      <td>shortt</td>\n",
       "      <td>darryl</td>\n",
       "      <td>DENNARD</td>\n",
       "      <td>...</td>\n",
       "      <td>NaN</td>\n",
       "      <td>NaN</td>\n",
       "      <td>NaN</td>\n",
       "      <td>NaN</td>\n",
       "      <td>NaN</td>\n",
       "      <td>NaN</td>\n",
       "      <td>NaN</td>\n",
       "      <td>NaN</td>\n",
       "      <td>NaN</td>\n",
       "      <td>NaN</td>\n",
       "    </tr>\n",
       "    <tr>\n",
       "      <th>3</th>\n",
       "      <td>3.0</td>\n",
       "      <td>3</td>\n",
       "      <td>Wells, John</td>\n",
       "      <td>BUH</td>\n",
       "      <td>01908-036</td>\n",
       "      <td>2009-01-04 00:00:00</td>\n",
       "      <td>Natural Causes</td>\n",
       "      <td>wells</td>\n",
       "      <td>john</td>\n",
       "      <td>JACOB</td>\n",
       "      <td>...</td>\n",
       "      <td>NaN</td>\n",
       "      <td>NaN</td>\n",
       "      <td>NaN</td>\n",
       "      <td>NaN</td>\n",
       "      <td>NaN</td>\n",
       "      <td>NaN</td>\n",
       "      <td>NaN</td>\n",
       "      <td>NaN</td>\n",
       "      <td>NaN</td>\n",
       "      <td>NaN</td>\n",
       "    </tr>\n",
       "    <tr>\n",
       "      <th>4</th>\n",
       "      <td>4.0</td>\n",
       "      <td>4</td>\n",
       "      <td>Kraus, Douglas  M.</td>\n",
       "      <td>YAZ</td>\n",
       "      <td>07649-025</td>\n",
       "      <td>2009-01-04 00:00:00</td>\n",
       "      <td>Suicide</td>\n",
       "      <td>kraus</td>\n",
       "      <td>douglas</td>\n",
       "      <td>M</td>\n",
       "      <td>...</td>\n",
       "      <td>NaN</td>\n",
       "      <td>NaN</td>\n",
       "      <td>NaN</td>\n",
       "      <td>NaN</td>\n",
       "      <td>NaN</td>\n",
       "      <td>NaN</td>\n",
       "      <td>NaN</td>\n",
       "      <td>NaN</td>\n",
       "      <td>NaN</td>\n",
       "      <td>NaN</td>\n",
       "    </tr>\n",
       "  </tbody>\n",
       "</table>\n",
       "<p>5 rows × 42 columns</p>\n",
       "</div>"
      ],
      "text/plain": [
       "        Unnamed: 0           InmateName InstID RegisterNum  \\\n",
       "0  0.0           0      Calderon, Jamie    OTV   01320-049   \n",
       "1  2.0           2  Harris, William  Jr    BTF   05023-095   \n",
       "2  1.0           1       Shorrt, Darryl    BUH   54731-019   \n",
       "3  3.0           3          Wells, John    BUH   01908-036   \n",
       "4  4.0           4   Kraus, Douglas  M.    YAZ   07649-025   \n",
       "\n",
       "                   DOD       DeathType api_nameLast api_nameFirst  \\\n",
       "0  2009-01-01 00:00:00      Accidental     calderon         jamie   \n",
       "1  2009-01-02 00:00:00  Natural Causes       harris       william   \n",
       "2  2009-01-02 00:00:00  Natural Causes       shortt        darryl   \n",
       "3  2009-01-04 00:00:00  Natural Causes        wells          john   \n",
       "4  2009-01-04 00:00:00         Suicide        kraus       douglas   \n",
       "\n",
       "  api_nameMiddle  ... nameFirst nameMiddle  inmateNum inmateNumType  \\\n",
       "0            NaN  ...       NaN        NaN        NaN           NaN   \n",
       "1            NaN  ...       NaN        NaN        NaN           NaN   \n",
       "2        DENNARD  ...       NaN        NaN        NaN           NaN   \n",
       "3          JACOB  ...       NaN        NaN        NaN           NaN   \n",
       "4              M  ...       NaN        NaN        NaN           NaN   \n",
       "\n",
       "   releaseCode faclName faclType faclURL projRelDate suffix  \n",
       "0          NaN      NaN      NaN     NaN         NaN    NaN  \n",
       "1          NaN      NaN      NaN     NaN         NaN    NaN  \n",
       "2          NaN      NaN      NaN     NaN         NaN    NaN  \n",
       "3          NaN      NaN      NaN     NaN         NaN    NaN  \n",
       "4          NaN      NaN      NaN     NaN         NaN    NaN  \n",
       "\n",
       "[5 rows x 42 columns]"
      ]
     },
     "execution_count": 6,
     "metadata": {},
     "output_type": "execute_result"
    }
   ],
   "source": [
    "deathmasterraw.head()"
   ]
  },
  {
   "cell_type": "code",
   "execution_count": 7,
   "id": "pressed-rubber",
   "metadata": {},
   "outputs": [],
   "source": [
    "# cleaning up the columns as well as dropping duplicates - some of the requests have overlapping timeframes.\n",
    "deathmaster = deathmasterraw[['InstID','RegisterNum','DOD','api_age','api_sex','api_race']].copy().drop_duplicates()\n",
    "deathmaster = deathmaster.rename(columns = {'api_age':'age'})\n",
    "deathmaster.DOD = [find_date(x) for x in deathmaster.DOD]\n",
    "deathmaster['year'] = [x.year for x in deathmaster.DOD]\n",
    "deathmaster = deathmaster.drop_duplicates()"
   ]
  },
  {
   "cell_type": "code",
   "execution_count": 8,
   "id": "moving-metabolism",
   "metadata": {},
   "outputs": [
    {
     "name": "stdout",
     "output_type": "stream",
     "text": [
      "<class 'pandas.core.frame.DataFrame'>\n",
      "Int64Index: 5461 entries, 0 to 285\n",
      "Data columns (total 7 columns):\n",
      " #   Column       Non-Null Count  Dtype         \n",
      "---  ------       --------------  -----         \n",
      " 0   InstID       5460 non-null   object        \n",
      " 1   RegisterNum  5461 non-null   object        \n",
      " 2   DOD          5461 non-null   datetime64[ns]\n",
      " 3   age          5431 non-null   float64       \n",
      " 4   api_sex      5431 non-null   object        \n",
      " 5   api_race     5431 non-null   object        \n",
      " 6   year         5461 non-null   int64         \n",
      "dtypes: datetime64[ns](1), float64(1), int64(1), object(4)\n",
      "memory usage: 341.3+ KB\n"
     ]
    }
   ],
   "source": [
    "deathmaster.info()"
   ]
  },
  {
   "cell_type": "code",
   "execution_count": 9,
   "id": "desperate-champion",
   "metadata": {},
   "outputs": [
    {
     "data": {
      "text/html": [
       "<div>\n",
       "<style scoped>\n",
       "    .dataframe tbody tr th:only-of-type {\n",
       "        vertical-align: middle;\n",
       "    }\n",
       "\n",
       "    .dataframe tbody tr th {\n",
       "        vertical-align: top;\n",
       "    }\n",
       "\n",
       "    .dataframe thead th {\n",
       "        text-align: right;\n",
       "    }\n",
       "</style>\n",
       "<table border=\"1\" class=\"dataframe\">\n",
       "  <thead>\n",
       "    <tr style=\"text-align: right;\">\n",
       "      <th></th>\n",
       "      <th>InstID</th>\n",
       "      <th>RegisterNum</th>\n",
       "      <th>DOD</th>\n",
       "      <th>age</th>\n",
       "      <th>api_sex</th>\n",
       "      <th>api_race</th>\n",
       "      <th>year</th>\n",
       "    </tr>\n",
       "  </thead>\n",
       "  <tbody>\n",
       "    <tr>\n",
       "      <th>0</th>\n",
       "      <td>OTV</td>\n",
       "      <td>01320-049</td>\n",
       "      <td>2009-01-01</td>\n",
       "      <td>47.0</td>\n",
       "      <td>Male</td>\n",
       "      <td>White</td>\n",
       "      <td>2009</td>\n",
       "    </tr>\n",
       "    <tr>\n",
       "      <th>1</th>\n",
       "      <td>BTF</td>\n",
       "      <td>05023-095</td>\n",
       "      <td>2009-01-02</td>\n",
       "      <td>44.0</td>\n",
       "      <td>Male</td>\n",
       "      <td>Black</td>\n",
       "      <td>2009</td>\n",
       "    </tr>\n",
       "    <tr>\n",
       "      <th>2</th>\n",
       "      <td>BUH</td>\n",
       "      <td>54731-019</td>\n",
       "      <td>2009-01-02</td>\n",
       "      <td>53.0</td>\n",
       "      <td>Male</td>\n",
       "      <td>Black</td>\n",
       "      <td>2009</td>\n",
       "    </tr>\n",
       "    <tr>\n",
       "      <th>3</th>\n",
       "      <td>BUH</td>\n",
       "      <td>01908-036</td>\n",
       "      <td>2009-01-04</td>\n",
       "      <td>80.0</td>\n",
       "      <td>Male</td>\n",
       "      <td>White</td>\n",
       "      <td>2009</td>\n",
       "    </tr>\n",
       "    <tr>\n",
       "      <th>4</th>\n",
       "      <td>YAZ</td>\n",
       "      <td>07649-025</td>\n",
       "      <td>2009-01-04</td>\n",
       "      <td>40.0</td>\n",
       "      <td>Male</td>\n",
       "      <td>White</td>\n",
       "      <td>2009</td>\n",
       "    </tr>\n",
       "  </tbody>\n",
       "</table>\n",
       "</div>"
      ],
      "text/plain": [
       "  InstID RegisterNum        DOD   age api_sex api_race  year\n",
       "0    OTV   01320-049 2009-01-01  47.0    Male    White  2009\n",
       "1    BTF   05023-095 2009-01-02  44.0    Male    Black  2009\n",
       "2    BUH   54731-019 2009-01-02  53.0    Male    Black  2009\n",
       "3    BUH   01908-036 2009-01-04  80.0    Male    White  2009\n",
       "4    YAZ   07649-025 2009-01-04  40.0    Male    White  2009"
      ]
     },
     "execution_count": 9,
     "metadata": {},
     "output_type": "execute_result"
    }
   ],
   "source": [
    "deathmaster.head()"
   ]
  },
  {
   "cell_type": "code",
   "execution_count": 10,
   "id": "portable-terminology",
   "metadata": {
    "scrolled": true
   },
   "outputs": [
    {
     "data": {
      "text/plain": [
       "year\n",
       "2009    411\n",
       "2010    402\n",
       "2011    430\n",
       "2012    385\n",
       "2013    433\n",
       "2014    493\n",
       "2015    464\n",
       "2016    397\n",
       "2017    388\n",
       "2018    383\n",
       "2019    383\n",
       "2020    466\n",
       "2021    409\n",
       "2022     17\n",
       "Name: RegisterNum, dtype: int64"
      ]
     },
     "execution_count": 10,
     "metadata": {},
     "output_type": "execute_result"
    }
   ],
   "source": [
    "deathmaster.groupby('year').RegisterNum.count()"
   ]
  },
  {
   "cell_type": "markdown",
   "id": "apparent-memorabilia",
   "metadata": {},
   "source": [
    "### Importing BOP prison population data\n",
    "Sources - \n",
    "- JSON files collected by UCLA's COVID Behind Bars project\n",
    "- Bureau of Prisons"
   ]
  },
  {
   "cell_type": "markdown",
   "id": "hungry-death",
   "metadata": {},
   "source": [
    "#### UCLA's datasets\n",
    "UCLA ran a scraper that collected json files from the BOP website."
   ]
  },
  {
   "cell_type": "code",
   "execution_count": 11,
   "id": "greater-meditation",
   "metadata": {},
   "outputs": [],
   "source": [
    "jsonlist = [x for x in os.listdir('ucla_files/')]\n",
    "pathlist = ['ucla_files/' + x for x in jsonlist]"
   ]
  },
  {
   "cell_type": "code",
   "execution_count": 12,
   "id": "widespread-polymer",
   "metadata": {},
   "outputs": [],
   "source": [
    "# extract the totals and the insitution codes\n",
    "def parse_json(path):\n",
    "    f = open(path)\n",
    "    data = json.load(f)\n",
    "    df = {}\n",
    "    df['total_population'] = data['TOTALPOPULATION'][0]\n",
    "    df['bop_population'] = data['BOPTOTAL'][0]\n",
    "    df['private_population'] = data['PRIVATETOTAL'][0]\n",
    "    df['date'] = data['DATEMODIFIED'][0]\n",
    "    df2 = pd.DataFrame(data['BOP'])\n",
    "    df2['date'] = data['DATEMODIFIED'][0]\n",
    "    return df,df2"
   ]
  },
  {
   "cell_type": "code",
   "execution_count": 13,
   "id": "forty-clearing",
   "metadata": {},
   "outputs": [
    {
     "name": "stdout",
     "output_type": "stream",
     "text": [
      "ucla_files/2021-07-20_federal_population.json\n"
     ]
    }
   ],
   "source": [
    "mainframelst = []\n",
    "bopfac = []\n",
    "\n",
    "for path in pathlist:\n",
    "    try:\n",
    "        df,df2 = parse_json(path)\n",
    "        mainframelst.append(df)\n",
    "        bopfac.append(df2)\n",
    "    except Exception:\n",
    "        print(path)"
   ]
  },
  {
   "cell_type": "code",
   "execution_count": 14,
   "id": "robust-clerk",
   "metadata": {},
   "outputs": [],
   "source": [
    "#extract population totals\n",
    "mainframe = pd.DataFrame(mainframelst)\n",
    "mainframe['population'] = mainframe.bop_population"
   ]
  },
  {
   "cell_type": "code",
   "execution_count": 15,
   "id": "distinct-insertion",
   "metadata": {},
   "outputs": [],
   "source": [
    "# examine the insitution codes that have appeared each year - to see if the same set of facilities show up.\n",
    "bopfacmaster = pd.DataFrame()\n",
    "for df in bopfac:\n",
    "     bopfacmaster = bopfacmaster.append(df)\n",
    "        \n",
    "bopfacmaster = bopfacmaster.drop_duplicates()\n",
    "bopfacmaster.date = [pd.to_datetime(x) for x in bopfacmaster.date]\n",
    "bopfacmaster['year'] = [x.year for x in bopfacmaster.date]"
   ]
  },
  {
   "cell_type": "code",
   "execution_count": 16,
   "id": "pleasant-ukraine",
   "metadata": {},
   "outputs": [],
   "source": [
    "instcnt = pd.DataFrame(bopfacmaster.groupby('year').code.unique())\n",
    "instcnt['cnt'] = [len(x) for x in instcnt.code]"
   ]
  },
  {
   "cell_type": "code",
   "execution_count": 17,
   "id": "chief-rebecca",
   "metadata": {},
   "outputs": [
    {
     "data": {
      "text/plain": [
       "122    6\n",
       "121    1\n",
       "Name: cnt, dtype: int64"
      ]
     },
     "execution_count": 17,
     "metadata": {},
     "output_type": "execute_result"
    }
   ],
   "source": [
    "instcnt.cnt.value_counts()\n",
    "# seems like it's 122 every year"
   ]
  },
  {
   "cell_type": "code",
   "execution_count": 18,
   "id": "thrown-elephant",
   "metadata": {},
   "outputs": [],
   "source": [
    "allcodes = flatten(instcnt.code)\n",
    "bopcodes = list(np.unique(np.array(allcodes)))"
   ]
  },
  {
   "cell_type": "code",
   "execution_count": 19,
   "id": "bizarre-contamination",
   "metadata": {},
   "outputs": [
    {
     "data": {
      "text/plain": [
       "122"
      ]
     },
     "execution_count": 19,
     "metadata": {},
     "output_type": "execute_result"
    }
   ],
   "source": [
    "len(bopcodes)\n",
    "# and it looks like it's the same 122 facilities"
   ]
  },
  {
   "cell_type": "code",
   "execution_count": 20,
   "id": "favorite-mortality",
   "metadata": {},
   "outputs": [],
   "source": [
    "# using the BOP codes to filter out deaths in these facilities\n",
    "deathmaster = deathmaster[deathmaster.InstID.isin(bopcodes)].copy()"
   ]
  },
  {
   "cell_type": "code",
   "execution_count": 21,
   "id": "approximate-holder",
   "metadata": {},
   "outputs": [
    {
     "data": {
      "text/plain": [
       "['RBK']"
      ]
     },
     "execution_count": 21,
     "metadata": {},
     "output_type": "execute_result"
    }
   ],
   "source": [
    "# check if any BOP facility hans't had any deaths\n",
    "[x for x in bopcodes if x not in deathmaster.InstID.unique()]"
   ]
  },
  {
   "cell_type": "markdown",
   "id": "third-cigarette",
   "metadata": {},
   "source": [
    "#### BOP's datasets\n",
    "BOP provided the population data broken down by age groups to NPR.<br>\n",
    "The population totals supplement the json population count, and the age group distribution is used to calculate standardized mortality rate. BOP says these reports aren't necessarily on September 30, but a certain day in September that's close to it"
   ]
  },
  {
   "cell_type": "code",
   "execution_count": 22,
   "id": "express-peripheral",
   "metadata": {},
   "outputs": [],
   "source": [
    "agedist = pd.read_excel('tabula-Age_BOP_FY2015-21_cleaned.xlsx')"
   ]
  },
  {
   "cell_type": "code",
   "execution_count": 23,
   "id": "closing-spectacular",
   "metadata": {},
   "outputs": [
    {
     "data": {
      "text/html": [
       "<div>\n",
       "<style scoped>\n",
       "    .dataframe tbody tr th:only-of-type {\n",
       "        vertical-align: middle;\n",
       "    }\n",
       "\n",
       "    .dataframe tbody tr th {\n",
       "        vertical-align: top;\n",
       "    }\n",
       "\n",
       "    .dataframe thead th {\n",
       "        text-align: right;\n",
       "    }\n",
       "</style>\n",
       "<table border=\"1\" class=\"dataframe\">\n",
       "  <thead>\n",
       "    <tr style=\"text-align: right;\">\n",
       "      <th></th>\n",
       "      <th>year</th>\n",
       "      <th>age</th>\n",
       "      <th>Frequency</th>\n",
       "      <th>Percent</th>\n",
       "      <th>Cumulative\\rFrequency</th>\n",
       "      <th>Cumulative\\rPercent</th>\n",
       "    </tr>\n",
       "  </thead>\n",
       "  <tbody>\n",
       "    <tr>\n",
       "      <th>0</th>\n",
       "      <td>2021</td>\n",
       "      <td>&lt;=19</td>\n",
       "      <td>137</td>\n",
       "      <td>0.10</td>\n",
       "      <td>137</td>\n",
       "      <td>0.10</td>\n",
       "    </tr>\n",
       "    <tr>\n",
       "      <th>1</th>\n",
       "      <td>2021</td>\n",
       "      <td>20 - 24</td>\n",
       "      <td>5213</td>\n",
       "      <td>3.97</td>\n",
       "      <td>5350</td>\n",
       "      <td>4.08</td>\n",
       "    </tr>\n",
       "    <tr>\n",
       "      <th>2</th>\n",
       "      <td>2021</td>\n",
       "      <td>25 - 29</td>\n",
       "      <td>14452</td>\n",
       "      <td>11.02</td>\n",
       "      <td>19802</td>\n",
       "      <td>15.10</td>\n",
       "    </tr>\n",
       "    <tr>\n",
       "      <th>3</th>\n",
       "      <td>2021</td>\n",
       "      <td>30 - 34</td>\n",
       "      <td>22029</td>\n",
       "      <td>16.79</td>\n",
       "      <td>41831</td>\n",
       "      <td>31.89</td>\n",
       "    </tr>\n",
       "    <tr>\n",
       "      <th>4</th>\n",
       "      <td>2021</td>\n",
       "      <td>35 - 39</td>\n",
       "      <td>23535</td>\n",
       "      <td>17.94</td>\n",
       "      <td>65366</td>\n",
       "      <td>49.83</td>\n",
       "    </tr>\n",
       "  </tbody>\n",
       "</table>\n",
       "</div>"
      ],
      "text/plain": [
       "   year      age  Frequency  Percent  Cumulative\\rFrequency  \\\n",
       "0  2021     <=19        137     0.10                    137   \n",
       "1  2021  20 - 24       5213     3.97                   5350   \n",
       "2  2021  25 - 29      14452    11.02                  19802   \n",
       "3  2021  30 - 34      22029    16.79                  41831   \n",
       "4  2021  35 - 39      23535    17.94                  65366   \n",
       "\n",
       "   Cumulative\\rPercent  \n",
       "0                 0.10  \n",
       "1                 4.08  \n",
       "2                15.10  \n",
       "3                31.89  \n",
       "4                49.83  "
      ]
     },
     "execution_count": 23,
     "metadata": {},
     "output_type": "execute_result"
    }
   ],
   "source": [
    "agedist.head()"
   ]
  },
  {
   "cell_type": "code",
   "execution_count": 24,
   "id": "equal-bridge",
   "metadata": {},
   "outputs": [],
   "source": [
    "# calculate population totals from the BOP dataset\n",
    "reportcnt = pd.DataFrame(agedist.groupby('year').Frequency.sum())\n",
    "reportcnt = reportcnt.reset_index()\n",
    "reportcnt.year = reportcnt.year.astype('str')\n",
    "reportcnt['date_text'] = ['09/30/' + x for x in reportcnt.year]\n",
    "reportcnt['date'] = [pd.to_datetime(x) for x in reportcnt.date_text]\n",
    "reportcnt = reportcnt.rename(columns = {'Frequency':'population'})"
   ]
  },
  {
   "cell_type": "code",
   "execution_count": 25,
   "id": "private-yacht",
   "metadata": {},
   "outputs": [],
   "source": [
    "# adding the BOP data to the UCLA data\n",
    "popdf = pd.concat([mainframe,reportcnt])\n",
    "popdf.date = [pd.to_datetime(x) for x in popdf.date]\n",
    "popdf = popdf.drop_duplicates()\n",
    "popdf = popdf.sort_values('date').reset_index()\n",
    "popdf = popdf.drop('index', axis = 1)\n",
    "popdf['year'] = [x.year for x in popdf.date]"
   ]
  },
  {
   "cell_type": "code",
   "execution_count": 26,
   "id": "phantom-travel",
   "metadata": {},
   "outputs": [
    {
     "data": {
      "text/html": [
       "<div>\n",
       "<style scoped>\n",
       "    .dataframe tbody tr th:only-of-type {\n",
       "        vertical-align: middle;\n",
       "    }\n",
       "\n",
       "    .dataframe tbody tr th {\n",
       "        vertical-align: top;\n",
       "    }\n",
       "\n",
       "    .dataframe thead th {\n",
       "        text-align: right;\n",
       "    }\n",
       "</style>\n",
       "<table border=\"1\" class=\"dataframe\">\n",
       "  <thead>\n",
       "    <tr style=\"text-align: right;\">\n",
       "      <th></th>\n",
       "      <th>total_population</th>\n",
       "      <th>bop_population</th>\n",
       "      <th>private_population</th>\n",
       "      <th>date</th>\n",
       "      <th>population</th>\n",
       "      <th>year</th>\n",
       "      <th>date_text</th>\n",
       "    </tr>\n",
       "  </thead>\n",
       "  <tbody>\n",
       "    <tr>\n",
       "      <th>100</th>\n",
       "      <td>156862.0</td>\n",
       "      <td>134447.0</td>\n",
       "      <td>6580.0</td>\n",
       "      <td>2021-12-02</td>\n",
       "      <td>134447</td>\n",
       "      <td>2021</td>\n",
       "      <td>NaN</td>\n",
       "    </tr>\n",
       "    <tr>\n",
       "      <th>101</th>\n",
       "      <td>156850.0</td>\n",
       "      <td>134384.0</td>\n",
       "      <td>6605.0</td>\n",
       "      <td>2021-12-09</td>\n",
       "      <td>134384</td>\n",
       "      <td>2021</td>\n",
       "      <td>NaN</td>\n",
       "    </tr>\n",
       "    <tr>\n",
       "      <th>102</th>\n",
       "      <td>157477.0</td>\n",
       "      <td>135033.0</td>\n",
       "      <td>6565.0</td>\n",
       "      <td>2021-12-16</td>\n",
       "      <td>135033</td>\n",
       "      <td>2021</td>\n",
       "      <td>NaN</td>\n",
       "    </tr>\n",
       "    <tr>\n",
       "      <th>103</th>\n",
       "      <td>157654.0</td>\n",
       "      <td>135334.0</td>\n",
       "      <td>6508.0</td>\n",
       "      <td>2021-12-30</td>\n",
       "      <td>135334</td>\n",
       "      <td>2021</td>\n",
       "      <td>NaN</td>\n",
       "    </tr>\n",
       "    <tr>\n",
       "      <th>104</th>\n",
       "      <td>157472.0</td>\n",
       "      <td>135380.0</td>\n",
       "      <td>6465.0</td>\n",
       "      <td>2022-01-06</td>\n",
       "      <td>135380</td>\n",
       "      <td>2022</td>\n",
       "      <td>NaN</td>\n",
       "    </tr>\n",
       "  </tbody>\n",
       "</table>\n",
       "</div>"
      ],
      "text/plain": [
       "     total_population  bop_population  private_population       date  \\\n",
       "100          156862.0        134447.0              6580.0 2021-12-02   \n",
       "101          156850.0        134384.0              6605.0 2021-12-09   \n",
       "102          157477.0        135033.0              6565.0 2021-12-16   \n",
       "103          157654.0        135334.0              6508.0 2021-12-30   \n",
       "104          157472.0        135380.0              6465.0 2022-01-06   \n",
       "\n",
       "     population  year date_text  \n",
       "100      134447  2021       NaN  \n",
       "101      134384  2021       NaN  \n",
       "102      135033  2021       NaN  \n",
       "103      135334  2021       NaN  \n",
       "104      135380  2022       NaN  "
      ]
     },
     "execution_count": 26,
     "metadata": {},
     "output_type": "execute_result"
    }
   ],
   "source": [
    "popdf.tail()"
   ]
  },
  {
   "cell_type": "code",
   "execution_count": 27,
   "id": "portable-period",
   "metadata": {
    "scrolled": false
   },
   "outputs": [
    {
     "data": {
      "image/png": "[encoded data removed]",
      "text/plain": [
       "<Figure size 432x288 with 1 Axes>"
      ]
     },
     "metadata": {
      "needs_background": "light"
     },
     "output_type": "display_data"
    }
   ],
   "source": [
    "# check to see if the two datasets form a smooth curve. \n",
    "plt.plot(popdf.date.to_numpy(), popdf.population.to_numpy())\n",
    "plt.ylim(bottom=0)\n",
    "plt.show()"
   ]
  },
  {
   "cell_type": "markdown",
   "id": "plastic-rogers",
   "metadata": {},
   "source": [
    "### Computing annualized average prison population\n",
    "Given prison population decreased significantly over the course of 2020 and 2021, we calculate an annualized average population for every year using all accessible datapoints through out the year. We use linear interpolation and extrapolation to fill in the times when there's no data available."
   ]
  },
  {
   "cell_type": "markdown",
   "id": "cardiac-medicaid",
   "metadata": {},
   "source": [
    "#### Interpolate/extrapolate Jan 1 and Dec 31 values\n",
    "To calculate and annualized average, we need to make sure that every year has values for the first and last day of the year. This datapoint doesn't exist for every year, so we use interpolation and extrapolation to fill in the blanks"
   ]
  },
  {
   "cell_type": "code",
   "execution_count": 28,
   "id": "polyphonic-functionality",
   "metadata": {},
   "outputs": [],
   "source": [
    "def get_bookends(year):\n",
    "    output = []\n",
    "    yeardf = popdf[popdf.year == year]\n",
    "    if year == 2015:\n",
    "#         Interpolate Dec. 31\n",
    "        if (yeardf.date.iloc[-1].month == 12) & (yeardf.date.iloc[-1].day == 31) == False:\n",
    "            # if not, then we interpolate\n",
    "            yearend = popdf[popdf.year == (year + 1)][['date','population']].iloc[0]\n",
    "            yeardf = yeardf.append(yearend).sort_values('date')\n",
    "            yeardf = yeardf.reset_index()\n",
    "            # calculate delta of days between first date of next year and last date of this year\n",
    "            delta1 = (yeardf.date.iloc[-1]-yeardf.date.iloc[-2]).days\n",
    "            # calculate delta of days between Dec 31 of this year and last date of this year\n",
    "            delta2 = (pd.to_datetime('12/31/' + str(year))- yeardf.date.iloc[-2]).days\n",
    "            # calculate the position of Dec 31\n",
    "            dec31pos = delta2/delta1\n",
    "            xp = [0,1]\n",
    "            fp = [yeardf.population.iloc[-2],yeardf.population.iloc[-1]]\n",
    "            dec31val = np.interp(dec31pos, xp, fp)\n",
    "            # append the interpolated value to yeardf\n",
    "            decdict = {'date':pd.to_datetime('12/31/' + str(year)),'population':dec31val}\n",
    "            output.append(decdict)\n",
    "        else:\n",
    "            dec31val = yeardf.population.iloc[-1]\n",
    "\n",
    "#         extrapolate Jan1 - since we don't have data for 2014\n",
    "        if (yeardf.date.iloc[0].month == 1) & (yeardf.date.iloc[0].day == 1) == False:\n",
    "#             # calculate delta of days between first date of this year and last date of last year\n",
    "            delta1 = (yeardf.date[0]-pd.to_datetime('01/01/' + str(year))).days\n",
    "            pos1 = delta1/365\n",
    "#             # calculate the position of Jan 1\n",
    "            jan1pos = 0\n",
    "            xp = [pos1,1] \n",
    "            fp = [yeardf.population[0],dec31val]\n",
    "            f = interpolate.interp1d(xp, fp, fill_value = \"extrapolate\")\n",
    "            jan1val = float(f(jan1pos))\n",
    "            # append the interpolated value to yeardf\n",
    "            jandict = {'date':pd.to_datetime('01/01/' + str(year)),'population':jan1val}\n",
    "            output.append(jandict)\n",
    "        else:\n",
    "            pass\n",
    "        \n",
    "    else: # for the rest of the years, use interpolation only\n",
    "        if (yeardf.date.iloc[0].month == 1) & (yeardf.date.iloc[0].day == 1) == False:\n",
    "            yearend = popdf[popdf.year == (year -1)][['date','population']].iloc[-1]\n",
    "            yeardf1 = yeardf.append(yearend).sort_values('date')\n",
    "            yeardf1 = yeardf1.reset_index()\n",
    "            # calculate delta of days between first date of this year and last date of last year\n",
    "            delta1 = (yeardf1.date[1]-yeardf1.date[0]).days\n",
    "            # calculate delta of days between Jan 1 of this year and last date of last year\n",
    "            delta2 = (pd.to_datetime('01/01/' + str(year))- yeardf1.date[0]).days\n",
    "            # calculate the position of Jan 1\n",
    "            jan1pos = delta2/delta1\n",
    "            xp = [0,1]\n",
    "            fp = [yeardf1.population[0],yeardf1.population[1]]\n",
    "            jan1val = np.interp(jan1pos, xp, fp)\n",
    "            # append the interpolated value to yeardf\n",
    "            jandict = {'date':pd.to_datetime('01/01/' + str(year)),'population':jan1val}\n",
    "            output.append(jandict)\n",
    "        else:\n",
    "            pass\n",
    "        if (yeardf.date.iloc[-1].month == 12) & (yeardf.date.iloc[-1].day == 31) == False:\n",
    "            # if not, then we interpolate\n",
    "            yearend = popdf[popdf.year == (year + 1)][['date','population']].iloc[0]\n",
    "            yeardf1 = yeardf.append(yearend).sort_values('date')\n",
    "            yeardf1 = yeardf1.reset_index()\n",
    "            # calculate delta of days between first date of next year and last date of this year\n",
    "            delta1 = (yeardf1.date.iloc[-1]-yeardf1.date.iloc[-2]).days\n",
    "            # calculate delta of days between Dec 31 of this year and last date of this year\n",
    "            delta2 = (pd.to_datetime('12/31/' + str(year))- yeardf1.date.iloc[-2]).days\n",
    "            # calculate the position of Dec 31\n",
    "            dec31pos = delta2/delta1\n",
    "            xp = [0,1]\n",
    "            fp = [yeardf1.population.iloc[-2],yeardf1.population.iloc[-1]]\n",
    "            dec31val = np.interp(dec31pos, xp, fp)\n",
    "            # append the interpolated value to yeardf\n",
    "            decdict = {'date':pd.to_datetime('12/31/' + str(year)),'population':dec31val}\n",
    "            output.append(decdict)\n",
    "        else:\n",
    "            pass\n",
    "\n",
    "    return output"
   ]
  },
  {
   "cell_type": "code",
   "execution_count": 29,
   "id": "athletic-andorra",
   "metadata": {},
   "outputs": [],
   "source": [
    "yearsarray = np.arange(2015,2022)"
   ]
  },
  {
   "cell_type": "code",
   "execution_count": 30,
   "id": "novel-indianapolis",
   "metadata": {},
   "outputs": [],
   "source": [
    "# compute the interpolated values for Jan 1 and Dec. 31 of each year\n",
    "bookends = []\n",
    "for year in yearsarray:\n",
    "    res = get_bookends(year)\n",
    "    bookends.append(res)\n",
    "\n",
    "nbookends = flatten(bookends)\n",
    "nbookendsdf = pd.DataFrame(nbookends)"
   ]
  },
  {
   "cell_type": "code",
   "execution_count": 31,
   "id": "unavailable-drawing",
   "metadata": {},
   "outputs": [],
   "source": [
    "# add the coomputed bookends to the population counts\n",
    "popdf1 = pd.concat([popdf,nbookendsdf])\n",
    "popdf1 = popdf1.sort_values('date')\n",
    "popdf1.year = [x.year for x in popdf1.date]"
   ]
  },
  {
   "cell_type": "markdown",
   "id": "electric-roberts",
   "metadata": {},
   "source": [
    "#### Calcuate an average yearly population with existing data points"
   ]
  },
  {
   "cell_type": "code",
   "execution_count": 32,
   "id": "phantom-ivory",
   "metadata": {},
   "outputs": [],
   "source": [
    "def avr_yr_pop(year):\n",
    "    # extract the data points for the year\n",
    "    yeardf = popdf1[popdf1.year == year][['date','population']]\n",
    "    yeardf = yeardf.reset_index()\n",
    "    totalarray = []\n",
    "    for i,r in yeardf.iterrows():\n",
    "        if i < len(yeardf)-1:\n",
    "            # mean of population between two dates\n",
    "            avrpop = (yeardf.population.iloc[i] + yeardf.population.iloc[i+1])/2\n",
    "            # number of days between two dates\n",
    "            days = (yeardf.date.iloc[i+1] - yeardf.date.iloc[i]).days\n",
    "            popbydays = avrpop * days\n",
    "            totalarray.append(popbydays)\n",
    "        else:\n",
    "            continue\n",
    "    sum1 = np.sum(totalarray)\n",
    "    dayinyear = (yeardf.date.max() - yeardf.date.min()).days\n",
    "    avroutput = sum1/dayinyear\n",
    "    yrdict = {}\n",
    "    yrdict['year'] = year\n",
    "    yrdict['average_pop'] = avroutput\n",
    "    return yrdict"
   ]
  },
  {
   "cell_type": "code",
   "execution_count": 33,
   "id": "speaking-handle",
   "metadata": {},
   "outputs": [],
   "source": [
    "avrlist = []"
   ]
  },
  {
   "cell_type": "code",
   "execution_count": 34,
   "id": "korean-speech",
   "metadata": {},
   "outputs": [
    {
     "name": "stderr",
     "output_type": "stream",
     "text": [
      "C:\\Users\\jhuo\\AppData\\Local\\Continuum\\anaconda2\\envs\\python3\\lib\\site-packages\\ipykernel_launcher.py:18: RuntimeWarning: invalid value encountered in double_scalars\n"
     ]
    }
   ],
   "source": [
    "for year in list(popdf1.year.unique()):\n",
    "    try:\n",
    "        res= avr_yr_pop(year)\n",
    "        avrlist.append(res)\n",
    "    except Exception:\n",
    "        continue"
   ]
  },
  {
   "cell_type": "code",
   "execution_count": 35,
   "id": "golden-tribune",
   "metadata": {},
   "outputs": [],
   "source": [
    "avrpopdf = pd.DataFrame(avrlist)"
   ]
  },
  {
   "cell_type": "code",
   "execution_count": 36,
   "id": "structured-mississippi",
   "metadata": {
    "scrolled": false
   },
   "outputs": [
    {
     "data": {
      "text/html": [
       "<div>\n",
       "<style scoped>\n",
       "    .dataframe tbody tr th:only-of-type {\n",
       "        vertical-align: middle;\n",
       "    }\n",
       "\n",
       "    .dataframe tbody tr th {\n",
       "        vertical-align: top;\n",
       "    }\n",
       "\n",
       "    .dataframe thead th {\n",
       "        text-align: right;\n",
       "    }\n",
       "</style>\n",
       "<table border=\"1\" class=\"dataframe\">\n",
       "  <thead>\n",
       "    <tr style=\"text-align: right;\">\n",
       "      <th></th>\n",
       "      <th>year</th>\n",
       "      <th>average_pop</th>\n",
       "    </tr>\n",
       "  </thead>\n",
       "  <tbody>\n",
       "    <tr>\n",
       "      <th>0</th>\n",
       "      <td>2015</td>\n",
       "      <td>168248.738481</td>\n",
       "    </tr>\n",
       "    <tr>\n",
       "      <th>1</th>\n",
       "      <td>2016</td>\n",
       "      <td>157632.991923</td>\n",
       "    </tr>\n",
       "    <tr>\n",
       "      <th>2</th>\n",
       "      <td>2017</td>\n",
       "      <td>154196.150427</td>\n",
       "    </tr>\n",
       "    <tr>\n",
       "      <th>3</th>\n",
       "      <td>2018</td>\n",
       "      <td>154201.533271</td>\n",
       "    </tr>\n",
       "    <tr>\n",
       "      <th>4</th>\n",
       "      <td>2019</td>\n",
       "      <td>150563.593072</td>\n",
       "    </tr>\n",
       "    <tr>\n",
       "      <th>5</th>\n",
       "      <td>2020</td>\n",
       "      <td>134519.627202</td>\n",
       "    </tr>\n",
       "    <tr>\n",
       "      <th>6</th>\n",
       "      <td>2021</td>\n",
       "      <td>129123.928571</td>\n",
       "    </tr>\n",
       "    <tr>\n",
       "      <th>7</th>\n",
       "      <td>2022</td>\n",
       "      <td>NaN</td>\n",
       "    </tr>\n",
       "  </tbody>\n",
       "</table>\n",
       "</div>"
      ],
      "text/plain": [
       "   year    average_pop\n",
       "0  2015  168248.738481\n",
       "1  2016  157632.991923\n",
       "2  2017  154196.150427\n",
       "3  2018  154201.533271\n",
       "4  2019  150563.593072\n",
       "5  2020  134519.627202\n",
       "6  2021  129123.928571\n",
       "7  2022            NaN"
      ]
     },
     "execution_count": 36,
     "metadata": {},
     "output_type": "execute_result"
    }
   ],
   "source": [
    "avrpopdf"
   ]
  },
  {
   "cell_type": "markdown",
   "id": "architectural-application",
   "metadata": {},
   "source": [
    "### Calculate standardized mortality ratio\n",
    "#### Importing age percentage breakdown of prison population, provided by the BOP"
   ]
  },
  {
   "cell_type": "code",
   "execution_count": 37,
   "id": "introductory-luxembourg",
   "metadata": {
    "scrolled": true
   },
   "outputs": [],
   "source": [
    "agedist.Percent = agedist.Percent.astype('float')\n",
    "agedist.Percent = agedist.Percent/100"
   ]
  },
  {
   "cell_type": "code",
   "execution_count": 38,
   "id": "individual-explorer",
   "metadata": {},
   "outputs": [],
   "source": [
    "agedist1 = pd.merge(agedist, avrpopdf, on = 'year', how = 'left' )\n",
    "agedist1.columns = agedist1.columns.str.lower()\n",
    "agedist1['group_pop'] = agedist1.percent * agedist1.average_pop"
   ]
  },
  {
   "cell_type": "code",
   "execution_count": 39,
   "id": "amended-wales",
   "metadata": {},
   "outputs": [
    {
     "data": {
      "text/html": [
       "<div>\n",
       "<style scoped>\n",
       "    .dataframe tbody tr th:only-of-type {\n",
       "        vertical-align: middle;\n",
       "    }\n",
       "\n",
       "    .dataframe tbody tr th {\n",
       "        vertical-align: top;\n",
       "    }\n",
       "\n",
       "    .dataframe thead th {\n",
       "        text-align: right;\n",
       "    }\n",
       "</style>\n",
       "<table border=\"1\" class=\"dataframe\">\n",
       "  <thead>\n",
       "    <tr style=\"text-align: right;\">\n",
       "      <th></th>\n",
       "      <th>year</th>\n",
       "      <th>age</th>\n",
       "      <th>frequency</th>\n",
       "      <th>percent</th>\n",
       "      <th>cumulative\\rfrequency</th>\n",
       "      <th>cumulative\\rpercent</th>\n",
       "      <th>average_pop</th>\n",
       "      <th>group_pop</th>\n",
       "    </tr>\n",
       "  </thead>\n",
       "  <tbody>\n",
       "    <tr>\n",
       "      <th>0</th>\n",
       "      <td>2021</td>\n",
       "      <td>&lt;=19</td>\n",
       "      <td>137</td>\n",
       "      <td>0.0010</td>\n",
       "      <td>137</td>\n",
       "      <td>0.10</td>\n",
       "      <td>129123.928571</td>\n",
       "      <td>129.123929</td>\n",
       "    </tr>\n",
       "    <tr>\n",
       "      <th>1</th>\n",
       "      <td>2021</td>\n",
       "      <td>20 - 24</td>\n",
       "      <td>5213</td>\n",
       "      <td>0.0397</td>\n",
       "      <td>5350</td>\n",
       "      <td>4.08</td>\n",
       "      <td>129123.928571</td>\n",
       "      <td>5126.219964</td>\n",
       "    </tr>\n",
       "    <tr>\n",
       "      <th>2</th>\n",
       "      <td>2021</td>\n",
       "      <td>25 - 29</td>\n",
       "      <td>14452</td>\n",
       "      <td>0.1102</td>\n",
       "      <td>19802</td>\n",
       "      <td>15.10</td>\n",
       "      <td>129123.928571</td>\n",
       "      <td>14229.456929</td>\n",
       "    </tr>\n",
       "    <tr>\n",
       "      <th>3</th>\n",
       "      <td>2021</td>\n",
       "      <td>30 - 34</td>\n",
       "      <td>22029</td>\n",
       "      <td>0.1679</td>\n",
       "      <td>41831</td>\n",
       "      <td>31.89</td>\n",
       "      <td>129123.928571</td>\n",
       "      <td>21679.907607</td>\n",
       "    </tr>\n",
       "    <tr>\n",
       "      <th>4</th>\n",
       "      <td>2021</td>\n",
       "      <td>35 - 39</td>\n",
       "      <td>23535</td>\n",
       "      <td>0.1794</td>\n",
       "      <td>65366</td>\n",
       "      <td>49.83</td>\n",
       "      <td>129123.928571</td>\n",
       "      <td>23164.832786</td>\n",
       "    </tr>\n",
       "  </tbody>\n",
       "</table>\n",
       "</div>"
      ],
      "text/plain": [
       "   year      age  frequency  percent  cumulative\\rfrequency  \\\n",
       "0  2021     <=19        137   0.0010                    137   \n",
       "1  2021  20 - 24       5213   0.0397                   5350   \n",
       "2  2021  25 - 29      14452   0.1102                  19802   \n",
       "3  2021  30 - 34      22029   0.1679                  41831   \n",
       "4  2021  35 - 39      23535   0.1794                  65366   \n",
       "\n",
       "   cumulative\\rpercent    average_pop     group_pop  \n",
       "0                 0.10  129123.928571    129.123929  \n",
       "1                 4.08  129123.928571   5126.219964  \n",
       "2                15.10  129123.928571  14229.456929  \n",
       "3                31.89  129123.928571  21679.907607  \n",
       "4                49.83  129123.928571  23164.832786  "
      ]
     },
     "execution_count": 39,
     "metadata": {},
     "output_type": "execute_result"
    }
   ],
   "source": [
    "agedist1.head()"
   ]
  },
  {
   "cell_type": "code",
   "execution_count": 40,
   "id": "voluntary-posting",
   "metadata": {},
   "outputs": [],
   "source": [
    "agedist1 = agedist1.rename(columns= {'age':'age_group'})\n",
    "agedist1.age_group = agedist1.age_group.str.replace('-','–')\n",
    "agedist1.age_group = agedist1.age_group.str.replace(' ','')\n",
    "agedist1.age_group = agedist1.age_group.str.replace('<=19','0–19')\n",
    "agedist1.age_group = agedist1.age_group.str.strip()"
   ]
  },
  {
   "cell_type": "markdown",
   "id": "exceptional-spencer",
   "metadata": {},
   "source": [
    "#### Categorize age groups of each death"
   ]
  },
  {
   "cell_type": "code",
   "execution_count": 41,
   "id": "demanding-bumper",
   "metadata": {},
   "outputs": [],
   "source": [
    "deathmaster['age_group'] = ''"
   ]
  },
  {
   "cell_type": "code",
   "execution_count": 42,
   "id": "reported-sweet",
   "metadata": {},
   "outputs": [],
   "source": [
    "agegroups = agedist1[['age_group']].copy().drop_duplicates()\n",
    "agegroups['minage'] = [x.split('–')[0] for x in agegroups.age_group]\n",
    "agegroups['maxage'] = [x.split('–')[1] for x in agegroups.age_group]\n",
    "agegroups.minage = agegroups.minage.str.strip()\n",
    "agegroups.minage = agegroups.minage.astype('float')\n",
    "agegroups.maxage = agegroups.maxage.str.strip()\n",
    "agegroups.maxage = agegroups.maxage.astype('float')"
   ]
  },
  {
   "cell_type": "code",
   "execution_count": 43,
   "id": "respected-chair",
   "metadata": {},
   "outputs": [],
   "source": [
    "# https://pandas.pydata.org/pandas-docs/stable/reference/api/pandas.cut.html\n",
    "bins= list(agegroups.minage)\n",
    "bins.append(150)\n",
    "labels = list(agegroups.age_group)\n",
    "deathmaster['age_group'] = pd.cut(deathmaster['age'], bins=bins, labels=labels, right=False)"
   ]
  },
  {
   "cell_type": "markdown",
   "id": "norwegian-rouge",
   "metadata": {},
   "source": [
    "#### Calculate Mortality year to year\n",
    "https://www.ncbi.nlm.nih.gov/pmc/articles/PMC3406211/"
   ]
  },
  {
   "cell_type": "code",
   "execution_count": 44,
   "id": "lasting-dodge",
   "metadata": {},
   "outputs": [],
   "source": [
    "death_year_age = pd.DataFrame(deathmaster.groupby(['year','age_group']).RegisterNum.count())\n",
    "death_year_age = death_year_age.reset_index()\n",
    "death_year_age = death_year_age.rename(columns = {'RegisterNum':'deaths'})"
   ]
  },
  {
   "cell_type": "code",
   "execution_count": 45,
   "id": "altered-richmond",
   "metadata": {},
   "outputs": [],
   "source": [
    "agedist2 = pd.merge(agedist1, death_year_age, on = ['age_group','year'], how = 'left')"
   ]
  },
  {
   "cell_type": "code",
   "execution_count": 61,
   "id": "clean-sunglasses",
   "metadata": {
    "scrolled": true
   },
   "outputs": [
    {
     "data": {
      "text/html": [
       "<div>\n",
       "<style scoped>\n",
       "    .dataframe tbody tr th:only-of-type {\n",
       "        vertical-align: middle;\n",
       "    }\n",
       "\n",
       "    .dataframe tbody tr th {\n",
       "        vertical-align: top;\n",
       "    }\n",
       "\n",
       "    .dataframe thead th {\n",
       "        text-align: right;\n",
       "    }\n",
       "</style>\n",
       "<table border=\"1\" class=\"dataframe\">\n",
       "  <thead>\n",
       "    <tr style=\"text-align: right;\">\n",
       "      <th></th>\n",
       "      <th>year</th>\n",
       "      <th>age_group</th>\n",
       "      <th>frequency</th>\n",
       "      <th>percent</th>\n",
       "      <th>cumulative\\rfrequency</th>\n",
       "      <th>cumulative\\rpercent</th>\n",
       "      <th>average_pop</th>\n",
       "      <th>group_pop</th>\n",
       "      <th>deaths</th>\n",
       "      <th>mortality_per_100k</th>\n",
       "    </tr>\n",
       "  </thead>\n",
       "  <tbody>\n",
       "    <tr>\n",
       "      <th>106</th>\n",
       "      <td>2015</td>\n",
       "      <td>70–74</td>\n",
       "      <td>1282</td>\n",
       "      <td>0.0078</td>\n",
       "      <td>164254</td>\n",
       "      <td>99.64</td>\n",
       "      <td>168248.738481</td>\n",
       "      <td>1312.340160</td>\n",
       "      <td>35</td>\n",
       "      <td>2.666991e+03</td>\n",
       "    </tr>\n",
       "    <tr>\n",
       "      <th>107</th>\n",
       "      <td>2015</td>\n",
       "      <td>75–79</td>\n",
       "      <td>431</td>\n",
       "      <td>0.0026</td>\n",
       "      <td>164685</td>\n",
       "      <td>99.90</td>\n",
       "      <td>168248.738481</td>\n",
       "      <td>437.446720</td>\n",
       "      <td>18</td>\n",
       "      <td>4.114787e+03</td>\n",
       "    </tr>\n",
       "    <tr>\n",
       "      <th>108</th>\n",
       "      <td>2015</td>\n",
       "      <td>80–84</td>\n",
       "      <td>134</td>\n",
       "      <td>0.0008</td>\n",
       "      <td>164819</td>\n",
       "      <td>99.98</td>\n",
       "      <td>168248.738481</td>\n",
       "      <td>134.598991</td>\n",
       "      <td>6</td>\n",
       "      <td>4.457686e+03</td>\n",
       "    </tr>\n",
       "    <tr>\n",
       "      <th>109</th>\n",
       "      <td>2015</td>\n",
       "      <td>85–89</td>\n",
       "      <td>26</td>\n",
       "      <td>0.0002</td>\n",
       "      <td>164845</td>\n",
       "      <td>100.00</td>\n",
       "      <td>168248.738481</td>\n",
       "      <td>33.649748</td>\n",
       "      <td>5</td>\n",
       "      <td>1.485895e+04</td>\n",
       "    </tr>\n",
       "    <tr>\n",
       "      <th>110</th>\n",
       "      <td>2015</td>\n",
       "      <td>90–94</td>\n",
       "      <td>6</td>\n",
       "      <td>0.0000</td>\n",
       "      <td>164851</td>\n",
       "      <td>100.00</td>\n",
       "      <td>168248.738481</td>\n",
       "      <td>0.000000</td>\n",
       "      <td>1</td>\n",
       "      <td>NaN</td>\n",
       "    </tr>\n",
       "  </tbody>\n",
       "</table>\n",
       "</div>"
      ],
      "text/plain": [
       "     year age_group  frequency  percent  cumulative\\rfrequency  \\\n",
       "106  2015     70–74       1282   0.0078                 164254   \n",
       "107  2015     75–79        431   0.0026                 164685   \n",
       "108  2015     80–84        134   0.0008                 164819   \n",
       "109  2015     85–89         26   0.0002                 164845   \n",
       "110  2015     90–94          6   0.0000                 164851   \n",
       "\n",
       "     cumulative\\rpercent    average_pop    group_pop  deaths  \\\n",
       "106                99.64  168248.738481  1312.340160      35   \n",
       "107                99.90  168248.738481   437.446720      18   \n",
       "108                99.98  168248.738481   134.598991       6   \n",
       "109               100.00  168248.738481    33.649748       5   \n",
       "110               100.00  168248.738481     0.000000       1   \n",
       "\n",
       "     mortality_per_100k  \n",
       "106        2.666991e+03  \n",
       "107        4.114787e+03  \n",
       "108        4.457686e+03  \n",
       "109        1.485895e+04  \n",
       "110                 NaN  "
      ]
     },
     "execution_count": 61,
     "metadata": {},
     "output_type": "execute_result"
    }
   ],
   "source": [
    "agedist2.tail()"
   ]
  },
  {
   "cell_type": "code",
   "execution_count": 47,
   "id": "inner-absence",
   "metadata": {},
   "outputs": [],
   "source": [
    "# calculate death rate for each age group\n",
    "agedist2['mortality_per_100k'] = agedist2.deaths/agedist2.group_pop * 100000"
   ]
  },
  {
   "cell_type": "code",
   "execution_count": 48,
   "id": "romantic-respect",
   "metadata": {},
   "outputs": [],
   "source": [
    "df = agedist2.pivot(index = 'age_group', columns = 'year', values = 'mortality_per_100k')"
   ]
  },
  {
   "cell_type": "code",
   "execution_count": 49,
   "id": "union-typing",
   "metadata": {
    "collapsed": true
   },
   "outputs": [
    {
     "data": {
      "text/plain": [
       "<matplotlib.axes._subplots.AxesSubplot at 0x238b2207d30>"
      ]
     },
     "execution_count": 49,
     "metadata": {},
     "output_type": "execute_result"
    },
    {
     "data": {
      "image/png": "[encoded data removed]",
      "text/plain": [
       "<Figure size 720x576 with 1 Axes>"
      ]
     },
     "metadata": {
      "needs_background": "light"
     },
     "output_type": "display_data"
    }
   ],
   "source": [
    "df.plot(figsize=(10, 8))"
   ]
  },
  {
   "cell_type": "code",
   "execution_count": 50,
   "id": "endangered-firewall",
   "metadata": {},
   "outputs": [
    {
     "data": {
      "text/html": [
       "<div>\n",
       "<style scoped>\n",
       "    .dataframe tbody tr th:only-of-type {\n",
       "        vertical-align: middle;\n",
       "    }\n",
       "\n",
       "    .dataframe tbody tr th {\n",
       "        vertical-align: top;\n",
       "    }\n",
       "\n",
       "    .dataframe thead th {\n",
       "        text-align: right;\n",
       "    }\n",
       "</style>\n",
       "<table border=\"1\" class=\"dataframe\">\n",
       "  <thead>\n",
       "    <tr style=\"text-align: right;\">\n",
       "      <th>year</th>\n",
       "      <th>2015</th>\n",
       "      <th>2016</th>\n",
       "      <th>2017</th>\n",
       "      <th>2018</th>\n",
       "      <th>2019</th>\n",
       "      <th>2020</th>\n",
       "      <th>2021</th>\n",
       "    </tr>\n",
       "    <tr>\n",
       "      <th>age_group</th>\n",
       "      <th></th>\n",
       "      <th></th>\n",
       "      <th></th>\n",
       "      <th></th>\n",
       "      <th></th>\n",
       "      <th></th>\n",
       "      <th></th>\n",
       "    </tr>\n",
       "  </thead>\n",
       "  <tbody>\n",
       "    <tr>\n",
       "      <th>0–19</th>\n",
       "      <td>0.000000e+00</td>\n",
       "      <td>0.000000</td>\n",
       "      <td>0.000000</td>\n",
       "      <td>0.000000e+00</td>\n",
       "      <td>0.000000e+00</td>\n",
       "      <td>0.000000</td>\n",
       "      <td>0.000000</td>\n",
       "    </tr>\n",
       "    <tr>\n",
       "      <th>20–24</th>\n",
       "      <td>5.036933e+01</td>\n",
       "      <td>42.386523</td>\n",
       "      <td>0.000000</td>\n",
       "      <td>1.508144e+01</td>\n",
       "      <td>1.530348e+01</td>\n",
       "      <td>56.747019</td>\n",
       "      <td>19.507552</td>\n",
       "    </tr>\n",
       "    <tr>\n",
       "      <th>25–29</th>\n",
       "      <td>2.501507e+01</td>\n",
       "      <td>10.862756</td>\n",
       "      <td>33.031814</td>\n",
       "      <td>5.523867e+01</td>\n",
       "      <td>2.276508e+01</td>\n",
       "      <td>65.038140</td>\n",
       "      <td>21.083025</td>\n",
       "    </tr>\n",
       "    <tr>\n",
       "      <th>30–34</th>\n",
       "      <td>6.523861e+01</td>\n",
       "      <td>49.531559</td>\n",
       "      <td>52.528474</td>\n",
       "      <td>4.506331e+01</td>\n",
       "      <td>2.492200e+01</td>\n",
       "      <td>49.861252</td>\n",
       "      <td>50.738224</td>\n",
       "    </tr>\n",
       "    <tr>\n",
       "      <th>35–39</th>\n",
       "      <td>4.747269e+01</td>\n",
       "      <td>63.639463</td>\n",
       "      <td>48.268712</td>\n",
       "      <td>6.302935e+01</td>\n",
       "      <td>8.435084e+01</td>\n",
       "      <td>85.493455</td>\n",
       "      <td>133.823543</td>\n",
       "    </tr>\n",
       "    <tr>\n",
       "      <th>40–44</th>\n",
       "      <td>1.068166e+02</td>\n",
       "      <td>121.142896</td>\n",
       "      <td>111.814590</td>\n",
       "      <td>1.104007e+02</td>\n",
       "      <td>7.439379e+01</td>\n",
       "      <td>142.445211</td>\n",
       "      <td>126.367099</td>\n",
       "    </tr>\n",
       "    <tr>\n",
       "      <th>45–49</th>\n",
       "      <td>1.483338e+02</td>\n",
       "      <td>198.245301</td>\n",
       "      <td>139.698758</td>\n",
       "      <td>1.730038e+02</td>\n",
       "      <td>1.627871e+02</td>\n",
       "      <td>185.100114</td>\n",
       "      <td>200.992648</td>\n",
       "    </tr>\n",
       "    <tr>\n",
       "      <th>50–54</th>\n",
       "      <td>4.169694e+02</td>\n",
       "      <td>372.729121</td>\n",
       "      <td>287.896444</td>\n",
       "      <td>3.276802e+02</td>\n",
       "      <td>3.425971e+02</td>\n",
       "      <td>467.371946</td>\n",
       "      <td>362.739951</td>\n",
       "    </tr>\n",
       "    <tr>\n",
       "      <th>55–59</th>\n",
       "      <td>6.652448e+02</td>\n",
       "      <td>539.902098</td>\n",
       "      <td>645.129204</td>\n",
       "      <td>5.022069e+02</td>\n",
       "      <td>5.159677e+02</td>\n",
       "      <td>816.066902</td>\n",
       "      <td>613.560577</td>\n",
       "    </tr>\n",
       "    <tr>\n",
       "      <th>60–64</th>\n",
       "      <td>1.196192e+03</td>\n",
       "      <td>1151.652705</td>\n",
       "      <td>872.284578</td>\n",
       "      <td>7.759853e+02</td>\n",
       "      <td>9.056880e+02</td>\n",
       "      <td>1486.771887</td>\n",
       "      <td>1035.601470</td>\n",
       "    </tr>\n",
       "    <tr>\n",
       "      <th>65–69</th>\n",
       "      <td>1.992262e+03</td>\n",
       "      <td>1323.048857</td>\n",
       "      <td>1472.326166</td>\n",
       "      <td>1.374542e+03</td>\n",
       "      <td>1.852688e+03</td>\n",
       "      <td>2809.307345</td>\n",
       "      <td>1958.378792</td>\n",
       "    </tr>\n",
       "    <tr>\n",
       "      <th>70–74</th>\n",
       "      <td>2.666991e+03</td>\n",
       "      <td>1641.937555</td>\n",
       "      <td>2708.124791</td>\n",
       "      <td>2.116164e+03</td>\n",
       "      <td>3.070899e+03</td>\n",
       "      <td>4785.012970</td>\n",
       "      <td>2673.695721</td>\n",
       "    </tr>\n",
       "    <tr>\n",
       "      <th>75–79</th>\n",
       "      <td>4.114787e+03</td>\n",
       "      <td>3683.525601</td>\n",
       "      <td>4913.065310</td>\n",
       "      <td>3.705726e+03</td>\n",
       "      <td>4.243316e+03</td>\n",
       "      <td>6504.627007</td>\n",
       "      <td>7494.675435</td>\n",
       "    </tr>\n",
       "    <tr>\n",
       "      <th>80–84</th>\n",
       "      <td>4.457686e+03</td>\n",
       "      <td>5550.868440</td>\n",
       "      <td>8646.994945</td>\n",
       "      <td>5.188016e+03</td>\n",
       "      <td>5.313369e+03</td>\n",
       "      <td>9911.812581</td>\n",
       "      <td>8448.543217</td>\n",
       "    </tr>\n",
       "    <tr>\n",
       "      <th>85–89</th>\n",
       "      <td>1.485895e+04</td>\n",
       "      <td>6343.849646</td>\n",
       "      <td>19455.738627</td>\n",
       "      <td>1.297004e+04</td>\n",
       "      <td>2.324599e+04</td>\n",
       "      <td>26018.508026</td>\n",
       "      <td>7744.497949</td>\n",
       "    </tr>\n",
       "    <tr>\n",
       "      <th>90–94</th>\n",
       "      <td>NaN</td>\n",
       "      <td>NaN</td>\n",
       "      <td>NaN</td>\n",
       "      <td>NaN</td>\n",
       "      <td>NaN</td>\n",
       "      <td>NaN</td>\n",
       "      <td>NaN</td>\n",
       "    </tr>\n",
       "  </tbody>\n",
       "</table>\n",
       "</div>"
      ],
      "text/plain": [
       "year               2015         2016          2017          2018  \\\n",
       "age_group                                                          \n",
       "0–19       0.000000e+00     0.000000      0.000000  0.000000e+00   \n",
       "20–24      5.036933e+01    42.386523      0.000000  1.508144e+01   \n",
       "25–29      2.501507e+01    10.862756     33.031814  5.523867e+01   \n",
       "30–34      6.523861e+01    49.531559     52.528474  4.506331e+01   \n",
       "35–39      4.747269e+01    63.639463     48.268712  6.302935e+01   \n",
       "40–44      1.068166e+02   121.142896    111.814590  1.104007e+02   \n",
       "45–49      1.483338e+02   198.245301    139.698758  1.730038e+02   \n",
       "50–54      4.169694e+02   372.729121    287.896444  3.276802e+02   \n",
       "55–59      6.652448e+02   539.902098    645.129204  5.022069e+02   \n",
       "60–64      1.196192e+03  1151.652705    872.284578  7.759853e+02   \n",
       "65–69      1.992262e+03  1323.048857   1472.326166  1.374542e+03   \n",
       "70–74      2.666991e+03  1641.937555   2708.124791  2.116164e+03   \n",
       "75–79      4.114787e+03  3683.525601   4913.065310  3.705726e+03   \n",
       "80–84      4.457686e+03  5550.868440   8646.994945  5.188016e+03   \n",
       "85–89      1.485895e+04  6343.849646  19455.738627  1.297004e+04   \n",
       "90–94               NaN          NaN           NaN           NaN   \n",
       "\n",
       "year               2019          2020         2021  \n",
       "age_group                                           \n",
       "0–19       0.000000e+00      0.000000     0.000000  \n",
       "20–24      1.530348e+01     56.747019    19.507552  \n",
       "25–29      2.276508e+01     65.038140    21.083025  \n",
       "30–34      2.492200e+01     49.861252    50.738224  \n",
       "35–39      8.435084e+01     85.493455   133.823543  \n",
       "40–44      7.439379e+01    142.445211   126.367099  \n",
       "45–49      1.627871e+02    185.100114   200.992648  \n",
       "50–54      3.425971e+02    467.371946   362.739951  \n",
       "55–59      5.159677e+02    816.066902   613.560577  \n",
       "60–64      9.056880e+02   1486.771887  1035.601470  \n",
       "65–69      1.852688e+03   2809.307345  1958.378792  \n",
       "70–74      3.070899e+03   4785.012970  2673.695721  \n",
       "75–79      4.243316e+03   6504.627007  7494.675435  \n",
       "80–84      5.313369e+03   9911.812581  8448.543217  \n",
       "85–89      2.324599e+04  26018.508026  7744.497949  \n",
       "90–94               NaN           NaN          NaN  "
      ]
     },
     "execution_count": 50,
     "metadata": {},
     "output_type": "execute_result"
    }
   ],
   "source": [
    "df"
   ]
  },
  {
   "cell_type": "markdown",
   "id": "economic-emperor",
   "metadata": {},
   "source": [
    "### Compare mortality rates during pandemic and five years prior\n",
    "#### 2020 to 2015-2019\n",
    "Using population and mortality between 2015 and 2019 as reference population.<br>\n",
    "We have also considered using US population as a reference population. Similar to previous studies, we found that expected deaths exceed actual deaths when use the US population as a reference. One of the reasons can be that many causes of death in general population, like car accidents, don't exist in incarcerated environments."
   ]
  },
  {
   "cell_type": "code",
   "execution_count": 51,
   "id": "tough-appreciation",
   "metadata": {},
   "outputs": [],
   "source": [
    "ref = agedist2[agedist2.year < 2020].copy()"
   ]
  },
  {
   "cell_type": "code",
   "execution_count": 52,
   "id": "incoming-coverage",
   "metadata": {},
   "outputs": [
    {
     "data": {
      "text/html": [
       "<div>\n",
       "<style scoped>\n",
       "    .dataframe tbody tr th:only-of-type {\n",
       "        vertical-align: middle;\n",
       "    }\n",
       "\n",
       "    .dataframe tbody tr th {\n",
       "        vertical-align: top;\n",
       "    }\n",
       "\n",
       "    .dataframe thead th {\n",
       "        text-align: right;\n",
       "    }\n",
       "</style>\n",
       "<table border=\"1\" class=\"dataframe\">\n",
       "  <thead>\n",
       "    <tr style=\"text-align: right;\">\n",
       "      <th></th>\n",
       "      <th>year</th>\n",
       "      <th>age_group</th>\n",
       "      <th>frequency</th>\n",
       "      <th>percent</th>\n",
       "      <th>cumulative\\rfrequency</th>\n",
       "      <th>cumulative\\rpercent</th>\n",
       "      <th>average_pop</th>\n",
       "      <th>group_pop</th>\n",
       "      <th>deaths</th>\n",
       "      <th>mortality_per_100k</th>\n",
       "    </tr>\n",
       "  </thead>\n",
       "  <tbody>\n",
       "    <tr>\n",
       "      <th>31</th>\n",
       "      <td>2019</td>\n",
       "      <td>0–19</td>\n",
       "      <td>262</td>\n",
       "      <td>0.0018</td>\n",
       "      <td>262</td>\n",
       "      <td>0.18</td>\n",
       "      <td>150563.593072</td>\n",
       "      <td>271.014468</td>\n",
       "      <td>0</td>\n",
       "      <td>0.000000</td>\n",
       "    </tr>\n",
       "    <tr>\n",
       "      <th>32</th>\n",
       "      <td>2019</td>\n",
       "      <td>20–24</td>\n",
       "      <td>6476</td>\n",
       "      <td>0.0434</td>\n",
       "      <td>6738</td>\n",
       "      <td>4.51</td>\n",
       "      <td>150563.593072</td>\n",
       "      <td>6534.459939</td>\n",
       "      <td>1</td>\n",
       "      <td>15.303484</td>\n",
       "    </tr>\n",
       "    <tr>\n",
       "      <th>33</th>\n",
       "      <td>2019</td>\n",
       "      <td>25–29</td>\n",
       "      <td>17423</td>\n",
       "      <td>0.1167</td>\n",
       "      <td>24161</td>\n",
       "      <td>16.18</td>\n",
       "      <td>150563.593072</td>\n",
       "      <td>17570.771312</td>\n",
       "      <td>4</td>\n",
       "      <td>22.765079</td>\n",
       "    </tr>\n",
       "    <tr>\n",
       "      <th>34</th>\n",
       "      <td>2019</td>\n",
       "      <td>30–34</td>\n",
       "      <td>23870</td>\n",
       "      <td>0.1599</td>\n",
       "      <td>48031</td>\n",
       "      <td>32.17</td>\n",
       "      <td>150563.593072</td>\n",
       "      <td>24075.118532</td>\n",
       "      <td>6</td>\n",
       "      <td>24.921996</td>\n",
       "    </tr>\n",
       "    <tr>\n",
       "      <th>35</th>\n",
       "      <td>2019</td>\n",
       "      <td>35–39</td>\n",
       "      <td>27034</td>\n",
       "      <td>0.1811</td>\n",
       "      <td>75065</td>\n",
       "      <td>50.28</td>\n",
       "      <td>150563.593072</td>\n",
       "      <td>27267.066705</td>\n",
       "      <td>23</td>\n",
       "      <td>84.350841</td>\n",
       "    </tr>\n",
       "  </tbody>\n",
       "</table>\n",
       "</div>"
      ],
      "text/plain": [
       "    year age_group  frequency  percent  cumulative\\rfrequency  \\\n",
       "31  2019      0–19        262   0.0018                    262   \n",
       "32  2019     20–24       6476   0.0434                   6738   \n",
       "33  2019     25–29      17423   0.1167                  24161   \n",
       "34  2019     30–34      23870   0.1599                  48031   \n",
       "35  2019     35–39      27034   0.1811                  75065   \n",
       "\n",
       "    cumulative\\rpercent    average_pop     group_pop  deaths  \\\n",
       "31                 0.18  150563.593072    271.014468       0   \n",
       "32                 4.51  150563.593072   6534.459939       1   \n",
       "33                16.18  150563.593072  17570.771312       4   \n",
       "34                32.17  150563.593072  24075.118532       6   \n",
       "35                50.28  150563.593072  27267.066705      23   \n",
       "\n",
       "    mortality_per_100k  \n",
       "31            0.000000  \n",
       "32           15.303484  \n",
       "33           22.765079  \n",
       "34           24.921996  \n",
       "35           84.350841  "
      ]
     },
     "execution_count": 52,
     "metadata": {},
     "output_type": "execute_result"
    }
   ],
   "source": [
    "ref.head()"
   ]
  },
  {
   "cell_type": "code",
   "execution_count": 53,
   "id": "juvenile-hollywood",
   "metadata": {},
   "outputs": [],
   "source": [
    "std = pd.DataFrame(ref.groupby('age_group').deaths.sum()/ref.groupby('age_group').group_pop.sum())\n",
    "std.columns = ['expected_death_rate']"
   ]
  },
  {
   "cell_type": "code",
   "execution_count": 54,
   "id": "utility-avatar",
   "metadata": {},
   "outputs": [],
   "source": [
    "yr20 = agedist2[agedist2.year == 2020].copy()\n",
    "yr20_1 = yr20[['age_group','group_pop','deaths']]"
   ]
  },
  {
   "cell_type": "code",
   "execution_count": 55,
   "id": "virtual-alignment",
   "metadata": {},
   "outputs": [],
   "source": [
    "std1 = pd.merge(std, yr20_1, on = 'age_group')\n",
    "std1['expected_deaths'] = std1.group_pop * std1.expected_death_rate"
   ]
  },
  {
   "cell_type": "code",
   "execution_count": 62,
   "id": "maritime-journey",
   "metadata": {},
   "outputs": [
    {
     "data": {
      "text/html": [
       "<div>\n",
       "<style scoped>\n",
       "    .dataframe tbody tr th:only-of-type {\n",
       "        vertical-align: middle;\n",
       "    }\n",
       "\n",
       "    .dataframe tbody tr th {\n",
       "        vertical-align: top;\n",
       "    }\n",
       "\n",
       "    .dataframe thead th {\n",
       "        text-align: right;\n",
       "    }\n",
       "</style>\n",
       "<table border=\"1\" class=\"dataframe\">\n",
       "  <thead>\n",
       "    <tr style=\"text-align: right;\">\n",
       "      <th></th>\n",
       "      <th>age_group</th>\n",
       "      <th>expected_death_rate</th>\n",
       "      <th>group_pop</th>\n",
       "      <th>deaths</th>\n",
       "      <th>expected_deaths</th>\n",
       "    </tr>\n",
       "  </thead>\n",
       "  <tbody>\n",
       "    <tr>\n",
       "      <th>0</th>\n",
       "      <td>0–19</td>\n",
       "      <td>0.000000</td>\n",
       "      <td>121.067664</td>\n",
       "      <td>0</td>\n",
       "      <td>0.000000</td>\n",
       "    </tr>\n",
       "    <tr>\n",
       "      <th>1</th>\n",
       "      <td>20–24</td>\n",
       "      <td>0.000256</td>\n",
       "      <td>5286.621349</td>\n",
       "      <td>3</td>\n",
       "      <td>1.353467</td>\n",
       "    </tr>\n",
       "    <tr>\n",
       "      <th>2</th>\n",
       "      <td>25–29</td>\n",
       "      <td>0.000293</td>\n",
       "      <td>15375.593389</td>\n",
       "      <td>10</td>\n",
       "      <td>4.500768</td>\n",
       "    </tr>\n",
       "    <tr>\n",
       "      <th>3</th>\n",
       "      <td>30–34</td>\n",
       "      <td>0.000482</td>\n",
       "      <td>22061.218861</td>\n",
       "      <td>11</td>\n",
       "      <td>10.635761</td>\n",
       "    </tr>\n",
       "    <tr>\n",
       "      <th>4</th>\n",
       "      <td>35–39</td>\n",
       "      <td>0.000608</td>\n",
       "      <td>24563.283927</td>\n",
       "      <td>21</td>\n",
       "      <td>14.944614</td>\n",
       "    </tr>\n",
       "  </tbody>\n",
       "</table>\n",
       "</div>"
      ],
      "text/plain": [
       "  age_group  expected_death_rate     group_pop  deaths  expected_deaths\n",
       "0      0–19             0.000000    121.067664       0         0.000000\n",
       "1     20–24             0.000256   5286.621349       3         1.353467\n",
       "2     25–29             0.000293  15375.593389      10         4.500768\n",
       "3     30–34             0.000482  22061.218861      11        10.635761\n",
       "4     35–39             0.000608  24563.283927      21        14.944614"
      ]
     },
     "execution_count": 62,
     "metadata": {},
     "output_type": "execute_result"
    }
   ],
   "source": [
    "std1.head()"
   ]
  },
  {
   "cell_type": "code",
   "execution_count": 56,
   "id": "acknowledged-gardening",
   "metadata": {
    "scrolled": false
   },
   "outputs": [
    {
     "data": {
      "text/plain": [
       "0.5029274867843305"
      ]
     },
     "execution_count": 56,
     "metadata": {},
     "output_type": "execute_result"
    }
   ],
   "source": [
    "std1.deaths.sum()/std1.expected_deaths.sum()-1"
   ]
  },
  {
   "cell_type": "markdown",
   "id": "detailed-antenna",
   "metadata": {},
   "source": [
    "#### Compare 2021  to 2015-2019"
   ]
  },
  {
   "cell_type": "code",
   "execution_count": 57,
   "id": "complicated-township",
   "metadata": {},
   "outputs": [],
   "source": [
    "yr21 = agedist2[agedist2.year == 2021].copy()\n",
    "yr21_1 = yr21[['age_group','group_pop','deaths']]"
   ]
  },
  {
   "cell_type": "code",
   "execution_count": 58,
   "id": "medieval-document",
   "metadata": {},
   "outputs": [],
   "source": [
    "std21 = pd.merge(std, yr21_1, on = 'age_group')\n",
    "std21['expected_deaths'] = std21.group_pop * std21.expected_death_rate"
   ]
  },
  {
   "cell_type": "code",
   "execution_count": 59,
   "id": "fancy-floating",
   "metadata": {},
   "outputs": [
    {
     "data": {
      "text/plain": [
       "0.2000471026429107"
      ]
     },
     "execution_count": 59,
     "metadata": {},
     "output_type": "execute_result"
    }
   ],
   "source": [
    "std21.deaths.sum()/std21.expected_deaths.sum()-1"
   ]
  },
  {
   "cell_type": "markdown",
   "id": "based-marriage",
   "metadata": {},
   "source": [
    "#### Combining 2020 and 2021"
   ]
  },
  {
   "cell_type": "code",
   "execution_count": 60,
   "id": "internal-upgrade",
   "metadata": {},
   "outputs": [
    {
     "data": {
      "text/plain": [
       "0.3546075752021547"
      ]
     },
     "execution_count": 60,
     "metadata": {},
     "output_type": "execute_result"
    }
   ],
   "source": [
    "((std21.deaths.sum() + std1.deaths.sum())/2)/((std21.expected_deaths.sum()+std1.expected_deaths.sum())/2)-1"
   ]
  }
 ],
 "metadata": {
  "kernelspec": {
   "display_name": "Python 3",
   "language": "python",
   "name": "python3"
  },
  "language_info": {
   "codemirror_mode": {
    "name": "ipython",
    "version": 3
   },
   "file_extension": ".py",
   "mimetype": "text/x-python",
   "name": "python",
   "nbconvert_exporter": "python",
   "pygments_lexer": "ipython3",
   "version": "3.6.12"
  }
 },
 "nbformat": 4,
 "nbformat_minor": 5
}
