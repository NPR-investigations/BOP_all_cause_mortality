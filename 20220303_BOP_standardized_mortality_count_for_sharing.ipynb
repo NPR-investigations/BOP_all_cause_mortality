{
 "cells": [
  {
   "cell_type": "markdown",
   "id": "hearing-excerpt",
   "metadata": {},
   "source": [
    "# Understanding mortality rates in BOP-operated prisons during 2020-2021<br>\n",
    "NPR obtained a database of people who died in BOP-operated prisons through Freedom of Information Act requests filed by NPR, as well as requests filed by Professor Alison Guernsey at University of Iowa, shared with NPR. We compared mortality rates during 2020 and 2021 with previous years, adjusting for age. We found that mortality rates in BOP facilities in 2020 and 2021 have been significantly higher than the five years before the pandemic.<br>"
   ]
  },
  {
   "cell_type": "code",
   "execution_count": 1,
   "id": "alternate-rings",
   "metadata": {},
   "outputs": [],
   "source": [
    "import pandas as pd\n",
    "import numpy as np\n",
    "import os\n",
    "import matplotlib.pyplot as plt\n",
    "import json\n",
    "import datetime as dt\n",
    "from datetime import datetime, date\n",
    "from scipy import interpolate\n",
    "import seaborn as sns\n",
    "import matplotlib.pyplot as plt\n",
    "pd.set_option('display.max_rows', 500)\n",
    "pd.set_option('use_inf_as_na', True)\n",
    "os.getcwd()\n",
    "flatten = lambda t: [item for sublist in t for item in sublist]"
   ]
  },
  {
   "cell_type": "markdown",
   "id": "chief-breath",
   "metadata": {},
   "source": [
    "### Importing death data\n",
    "Death data preprocessing see separate notebook"
   ]
  },
  {
   "cell_type": "code",
   "execution_count": 2,
   "id": "metropolitan-luxembourg",
   "metadata": {},
   "outputs": [],
   "source": [
    "# death data obtained through two FOIA requests\n",
    "death01 = pd.read_excel('Jan2015-May2021 Deaths Analyzed.xlsx','FOIA JAN 2015 - November 2019')\n",
    "death02 = pd.read_csv('20211217_2019_2021_deaths.csv')\n",
    "# death data shared by Alison Guernsey at University of Iowa\n",
    "death03 = pd.read_csv('20220208_BOP_deaths_Apr_21_Jan_22.csv')"
   ]
  },
  {
   "cell_type": "code",
   "execution_count": 3,
   "id": "outer-enzyme",
   "metadata": {},
   "outputs": [],
   "source": [
    "death03 = death03.rename(columns = {'faclCode':'InstID',\n",
    "                                   'BOP_RegisterNum':'RegisterNum',\n",
    "                                   'actRelDate':'DOD',\n",
    "                                   'age':'api_age',\n",
    "                                   'sex':'api_sex',\n",
    "                                   'race':'api_race'})"
   ]
  },
  {
   "cell_type": "markdown",
   "id": "shared-montreal",
   "metadata": {},
   "source": [
    "These deaths include privately operated facilities before 2019. We exclude them from the analysis because a) we don't have the post 2019 deaths in privately operated facilities, and b) situations in privately operated facilities are opaque, we have less on-the-ground reporting for them and don't know how similar they are to BOP-operated facilities."
   ]
  },
  {
   "cell_type": "code",
   "execution_count": 4,
   "id": "monetary-litigation",
   "metadata": {},
   "outputs": [],
   "source": [
    "# convert string in the date fields to date time \n",
    "def find_date(x):\n",
    "    try:\n",
    "        res = pd.to_datetime(x)\n",
    "    except Exception:\n",
    "        res = np.nan\n",
    "    return res"
   ]
  },
  {
   "cell_type": "code",
   "execution_count": 5,
   "id": "lasting-maine",
   "metadata": {},
   "outputs": [],
   "source": [
    "#stitching the three death databases together\n",
    "deathmasterraw = pd.concat([death01,death02, death03])"
   ]
  },
  {
   "cell_type": "code",
   "execution_count": 6,
   "id": "pressed-rubber",
   "metadata": {},
   "outputs": [],
   "source": [
    "# cleaning up the columns as well as dropping duplicates - some of the requests have overlapping timeframes.\n",
    "deathmaster = deathmasterraw[['InstID','RegisterNum','DOD','api_age','api_sex','api_race']].copy().drop_duplicates()\n",
    "deathmaster = deathmaster.rename(columns = {'api_age':'age'})\n",
    "deathmaster.DOD = [find_date(x) for x in deathmaster.DOD]\n",
    "deathmaster['year'] = [x.year for x in deathmaster.DOD]\n",
    "deathmaster = deathmaster.drop_duplicates()"
   ]
  },
  {
   "cell_type": "code",
   "execution_count": 7,
   "id": "portable-terminology",
   "metadata": {
    "scrolled": true
   },
   "outputs": [
    {
     "data": {
      "text/plain": [
       "year\n",
       "2015    464\n",
       "2016    397\n",
       "2017    388\n",
       "2018    383\n",
       "2019    383\n",
       "2020    466\n",
       "2021    409\n",
       "2022     17\n",
       "Name: RegisterNum, dtype: int64"
      ]
     },
     "execution_count": 7,
     "metadata": {},
     "output_type": "execute_result"
    }
   ],
   "source": [
    "deathmaster.groupby('year').RegisterNum.count()"
   ]
  },
  {
   "cell_type": "markdown",
   "id": "apparent-memorabilia",
   "metadata": {},
   "source": [
    "### Importing BOP prison population data\n",
    "Sources - \n",
    "- JSON files collected by UCLA's COVID Behind Bars project\n",
    "- Bureau of Prisons"
   ]
  },
  {
   "cell_type": "markdown",
   "id": "hungry-death",
   "metadata": {},
   "source": [
    "#### UCLA's datasets\n",
    "UCLA ran a scraper that collected json files from the BOP website."
   ]
  },
  {
   "cell_type": "code",
   "execution_count": 8,
   "id": "greater-meditation",
   "metadata": {},
   "outputs": [],
   "source": [
    "jsonlist = [x for x in os.listdir('ucla_files/')]\n",
    "pathlist = ['ucla_files/' + x for x in jsonlist]"
   ]
  },
  {
   "cell_type": "code",
   "execution_count": 9,
   "id": "widespread-polymer",
   "metadata": {},
   "outputs": [],
   "source": [
    "# extract the totals and the institution codes\n",
    "def parse_json(path):\n",
    "    f = open(path)\n",
    "    data = json.load(f)\n",
    "    df = {}\n",
    "    df['total_population'] = data['TOTALPOPULATION'][0]\n",
    "    df['bop_population'] = data['BOPTOTAL'][0]\n",
    "    df['private_population'] = data['PRIVATETOTAL'][0]\n",
    "    df['date'] = data['DATEMODIFIED'][0]\n",
    "    df2 = pd.DataFrame(data['BOP'])\n",
    "    df2['date'] = data['DATEMODIFIED'][0]\n",
    "    return df,df2"
   ]
  },
  {
   "cell_type": "code",
   "execution_count": 10,
   "id": "forty-clearing",
   "metadata": {},
   "outputs": [
    {
     "name": "stdout",
     "output_type": "stream",
     "text": [
      "ucla_files/2021-07-20_federal_population.json\n"
     ]
    }
   ],
   "source": [
    "mainframelst = []\n",
    "bopfac = []\n",
    "\n",
    "for path in pathlist:\n",
    "    try:\n",
    "        df,df2 = parse_json(path)\n",
    "        mainframelst.append(df)\n",
    "        bopfac.append(df2)\n",
    "    except Exception:\n",
    "        print(path)"
   ]
  },
  {
   "cell_type": "code",
   "execution_count": 11,
   "id": "robust-clerk",
   "metadata": {},
   "outputs": [],
   "source": [
    "#extract population totals\n",
    "mainframe = pd.DataFrame(mainframelst)\n",
    "mainframe['population'] = mainframe.bop_population"
   ]
  },
  {
   "cell_type": "code",
   "execution_count": 12,
   "id": "distinct-insertion",
   "metadata": {},
   "outputs": [],
   "source": [
    "# examine the insitution codes that have appeared each year - to see if the same set of facilities show up.\n",
    "bopfacmaster = pd.DataFrame()\n",
    "for df in bopfac:\n",
    "     bopfacmaster = bopfacmaster.append(df)\n",
    "\n",
    "bopfacmaster = bopfacmaster.drop_duplicates()\n",
    "bopfacmaster.date = [pd.to_datetime(x) for x in bopfacmaster.date]\n",
    "bopfacmaster['year'] = [x.year for x in bopfacmaster.date]"
   ]
  },
  {
   "cell_type": "code",
   "execution_count": 13,
   "id": "explicit-decision",
   "metadata": {
    "scrolled": true
   },
   "outputs": [
    {
     "name": "stdout",
     "output_type": "stream",
     "text": [
      "<class 'pandas.core.frame.DataFrame'>\n",
      "Int64Index: 18920 entries, 0 to 191\n",
      "Data columns (total 12 columns):\n",
      " #   Column                Non-Null Count  Dtype         \n",
      "---  ------                --------------  -----         \n",
      " 0   code                  18920 non-null  object        \n",
      " 1   Name                  18920 non-null  object        \n",
      " 2   state                 18920 non-null  object        \n",
      " 3   popCount              18920 non-null  int64         \n",
      " 4   groupDescription      18920 non-null  object        \n",
      " 5   sortKey               18920 non-null  object        \n",
      " 6   sortNameKey           18920 non-null  object        \n",
      " 7   sortpzapSequence      18920 non-null  object        \n",
      " 8   indentationIndicator  18920 non-null  object        \n",
      " 9   recordtype            18920 non-null  object        \n",
      " 10  date                  18920 non-null  datetime64[ns]\n",
      " 11  year                  18920 non-null  int64         \n",
      "dtypes: datetime64[ns](1), int64(2), object(9)\n",
      "memory usage: 1.9+ MB\n"
     ]
    }
   ],
   "source": [
    "bopfacmaster.info()"
   ]
  },
  {
   "cell_type": "code",
   "execution_count": 14,
   "id": "pleasant-ukraine",
   "metadata": {},
   "outputs": [],
   "source": [
    "instcnt = pd.DataFrame(bopfacmaster.groupby('year').code.unique())\n",
    "instcnt['cnt'] = [len(x) for x in instcnt.code]"
   ]
  },
  {
   "cell_type": "code",
   "execution_count": 15,
   "id": "prepared-consolidation",
   "metadata": {},
   "outputs": [
    {
     "data": {
      "text/html": [
       "<div>\n",
       "<style scoped>\n",
       "    .dataframe tbody tr th:only-of-type {\n",
       "        vertical-align: middle;\n",
       "    }\n",
       "\n",
       "    .dataframe tbody tr th {\n",
       "        vertical-align: top;\n",
       "    }\n",
       "\n",
       "    .dataframe thead th {\n",
       "        text-align: right;\n",
       "    }\n",
       "</style>\n",
       "<table border=\"1\" class=\"dataframe\">\n",
       "  <thead>\n",
       "    <tr style=\"text-align: right;\">\n",
       "      <th></th>\n",
       "      <th>code</th>\n",
       "      <th>cnt</th>\n",
       "    </tr>\n",
       "    <tr>\n",
       "      <th>year</th>\n",
       "      <th></th>\n",
       "      <th></th>\n",
       "    </tr>\n",
       "  </thead>\n",
       "  <tbody>\n",
       "    <tr>\n",
       "      <th>2016</th>\n",
       "      <td>[ALD, ALI, ALF, ALM, ALP, ASH, ATL, ATW, BAS, ...</td>\n",
       "      <td>122</td>\n",
       "    </tr>\n",
       "    <tr>\n",
       "      <th>2017</th>\n",
       "      <td>[ALD, ALI, ALF, ALM, ALP, ASH, ATL, ATW, BAS, ...</td>\n",
       "      <td>122</td>\n",
       "    </tr>\n",
       "    <tr>\n",
       "      <th>2018</th>\n",
       "      <td>[ALD, ALI, ALF, ALM, ALP, ASH, ATL, ATW, BAS, ...</td>\n",
       "      <td>122</td>\n",
       "    </tr>\n",
       "    <tr>\n",
       "      <th>2019</th>\n",
       "      <td>[ALD, ALI, ALF, ALM, ALP, ASH, ATL, ATW, BAS, ...</td>\n",
       "      <td>122</td>\n",
       "    </tr>\n",
       "    <tr>\n",
       "      <th>2020</th>\n",
       "      <td>[ALD, ALI, ALF, ALM, ALP, ASH, ATL, ATW, BAS, ...</td>\n",
       "      <td>122</td>\n",
       "    </tr>\n",
       "    <tr>\n",
       "      <th>2021</th>\n",
       "      <td>[ALD, ALI, ALF, ALM, ALP, ASH, ATL, ATW, BAS, ...</td>\n",
       "      <td>122</td>\n",
       "    </tr>\n",
       "    <tr>\n",
       "      <th>2022</th>\n",
       "      <td>[ALD, ALI, ALF, ALM, ALP, ASH, ATL, ATW, BAS, ...</td>\n",
       "      <td>121</td>\n",
       "    </tr>\n",
       "  </tbody>\n",
       "</table>\n",
       "</div>"
      ],
      "text/plain": [
       "                                                   code  cnt\n",
       "year                                                        \n",
       "2016  [ALD, ALI, ALF, ALM, ALP, ASH, ATL, ATW, BAS, ...  122\n",
       "2017  [ALD, ALI, ALF, ALM, ALP, ASH, ATL, ATW, BAS, ...  122\n",
       "2018  [ALD, ALI, ALF, ALM, ALP, ASH, ATL, ATW, BAS, ...  122\n",
       "2019  [ALD, ALI, ALF, ALM, ALP, ASH, ATL, ATW, BAS, ...  122\n",
       "2020  [ALD, ALI, ALF, ALM, ALP, ASH, ATL, ATW, BAS, ...  122\n",
       "2021  [ALD, ALI, ALF, ALM, ALP, ASH, ATL, ATW, BAS, ...  122\n",
       "2022  [ALD, ALI, ALF, ALM, ALP, ASH, ATL, ATW, BAS, ...  121"
      ]
     },
     "execution_count": 15,
     "metadata": {},
     "output_type": "execute_result"
    }
   ],
   "source": [
    "instcnt\n",
    "# a facility is missing in 2022. But we aren't including them in the analysis."
   ]
  },
  {
   "cell_type": "code",
   "execution_count": 16,
   "id": "thrown-elephant",
   "metadata": {},
   "outputs": [],
   "source": [
    "allcodes = flatten(instcnt.code)\n",
    "bopcodes = list(np.unique(np.array(allcodes)))"
   ]
  },
  {
   "cell_type": "code",
   "execution_count": 17,
   "id": "bizarre-contamination",
   "metadata": {},
   "outputs": [
    {
     "data": {
      "text/plain": [
       "122"
      ]
     },
     "execution_count": 17,
     "metadata": {},
     "output_type": "execute_result"
    }
   ],
   "source": [
    "len(bopcodes)\n",
    "# it looks like it's the same 122 facilities throughout the years."
   ]
  },
  {
   "cell_type": "code",
   "execution_count": 18,
   "id": "favorite-mortality",
   "metadata": {},
   "outputs": [],
   "source": [
    "# using the BOP codes to filter out deaths in these facilities\n",
    "deathmaster = deathmaster[deathmaster.InstID.isin(bopcodes)].copy()"
   ]
  },
  {
   "cell_type": "code",
   "execution_count": 19,
   "id": "approximate-holder",
   "metadata": {},
   "outputs": [
    {
     "data": {
      "text/plain": [
       "['PEN', 'RBK']"
      ]
     },
     "execution_count": 19,
     "metadata": {},
     "output_type": "execute_result"
    }
   ],
   "source": [
    "# check if any BOP facility hasn't had any deaths\n",
    "[x for x in bopcodes if x not in deathmaster.InstID.unique()]"
   ]
  },
  {
   "cell_type": "markdown",
   "id": "third-cigarette",
   "metadata": {},
   "source": [
    "#### BOP's datasets\n",
    "BOP provided the population data broken down by age groups to NPR.<br>\n",
    "The population totals supplement the json population count, and the age group distribution is used to calculate standardized mortality rate. BOP says these reports aren't necessarily on September 30, but a certain day in September that's close to it"
   ]
  },
  {
   "cell_type": "code",
   "execution_count": 20,
   "id": "express-peripheral",
   "metadata": {},
   "outputs": [],
   "source": [
    "agedist = pd.read_excel('tabula-Age_BOP_FY2015-21_cleaned.xlsx')"
   ]
  },
  {
   "cell_type": "code",
   "execution_count": 21,
   "id": "closing-spectacular",
   "metadata": {},
   "outputs": [
    {
     "data": {
      "text/html": [
       "<div>\n",
       "<style scoped>\n",
       "    .dataframe tbody tr th:only-of-type {\n",
       "        vertical-align: middle;\n",
       "    }\n",
       "\n",
       "    .dataframe tbody tr th {\n",
       "        vertical-align: top;\n",
       "    }\n",
       "\n",
       "    .dataframe thead th {\n",
       "        text-align: right;\n",
       "    }\n",
       "</style>\n",
       "<table border=\"1\" class=\"dataframe\">\n",
       "  <thead>\n",
       "    <tr style=\"text-align: right;\">\n",
       "      <th></th>\n",
       "      <th>year</th>\n",
       "      <th>age</th>\n",
       "      <th>Frequency</th>\n",
       "      <th>Percent</th>\n",
       "      <th>Cumulative\\rFrequency</th>\n",
       "      <th>Cumulative\\rPercent</th>\n",
       "    </tr>\n",
       "  </thead>\n",
       "  <tbody>\n",
       "    <tr>\n",
       "      <th>0</th>\n",
       "      <td>2021</td>\n",
       "      <td>&lt;=19</td>\n",
       "      <td>137</td>\n",
       "      <td>0.10</td>\n",
       "      <td>137</td>\n",
       "      <td>0.10</td>\n",
       "    </tr>\n",
       "    <tr>\n",
       "      <th>1</th>\n",
       "      <td>2021</td>\n",
       "      <td>20 - 24</td>\n",
       "      <td>5213</td>\n",
       "      <td>3.97</td>\n",
       "      <td>5350</td>\n",
       "      <td>4.08</td>\n",
       "    </tr>\n",
       "    <tr>\n",
       "      <th>2</th>\n",
       "      <td>2021</td>\n",
       "      <td>25 - 29</td>\n",
       "      <td>14452</td>\n",
       "      <td>11.02</td>\n",
       "      <td>19802</td>\n",
       "      <td>15.10</td>\n",
       "    </tr>\n",
       "    <tr>\n",
       "      <th>3</th>\n",
       "      <td>2021</td>\n",
       "      <td>30 - 34</td>\n",
       "      <td>22029</td>\n",
       "      <td>16.79</td>\n",
       "      <td>41831</td>\n",
       "      <td>31.89</td>\n",
       "    </tr>\n",
       "    <tr>\n",
       "      <th>4</th>\n",
       "      <td>2021</td>\n",
       "      <td>35 - 39</td>\n",
       "      <td>23535</td>\n",
       "      <td>17.94</td>\n",
       "      <td>65366</td>\n",
       "      <td>49.83</td>\n",
       "    </tr>\n",
       "  </tbody>\n",
       "</table>\n",
       "</div>"
      ],
      "text/plain": [
       "   year      age  Frequency  Percent  Cumulative\\rFrequency  \\\n",
       "0  2021     <=19        137     0.10                    137   \n",
       "1  2021  20 - 24       5213     3.97                   5350   \n",
       "2  2021  25 - 29      14452    11.02                  19802   \n",
       "3  2021  30 - 34      22029    16.79                  41831   \n",
       "4  2021  35 - 39      23535    17.94                  65366   \n",
       "\n",
       "   Cumulative\\rPercent  \n",
       "0                 0.10  \n",
       "1                 4.08  \n",
       "2                15.10  \n",
       "3                31.89  \n",
       "4                49.83  "
      ]
     },
     "execution_count": 21,
     "metadata": {},
     "output_type": "execute_result"
    }
   ],
   "source": [
    "agedist.head()"
   ]
  },
  {
   "cell_type": "code",
   "execution_count": 22,
   "id": "equal-bridge",
   "metadata": {},
   "outputs": [],
   "source": [
    "# calculate population totals from the BOP dataset\n",
    "reportcnt = pd.DataFrame(agedist.groupby('year').Frequency.sum())\n",
    "reportcnt = reportcnt.reset_index()\n",
    "reportcnt.year = reportcnt.year.astype('str')\n",
    "reportcnt['date_text'] = ['09/30/' + x for x in reportcnt.year]\n",
    "reportcnt['date'] = [pd.to_datetime(x) for x in reportcnt.date_text]\n",
    "reportcnt = reportcnt.rename(columns = {'Frequency':'population'})"
   ]
  },
  {
   "cell_type": "code",
   "execution_count": 23,
   "id": "distinguished-merchant",
   "metadata": {},
   "outputs": [],
   "source": [
    "# calculate population percentage from raw numbers.\n",
    "reportcnt1 = reportcnt[['year','population']].copy()\n",
    "reportcnt1.year = reportcnt1.year.astype(int)\n",
    "agedistmerge = pd.merge(agedist, reportcnt1, on = 'year', how = 'left')\n",
    "agedistmerge['percent'] = agedistmerge.Frequency/agedistmerge.population\n",
    "agedistmerge1 = agedistmerge[['year','age','percent']].copy()"
   ]
  },
  {
   "cell_type": "code",
   "execution_count": 24,
   "id": "private-yacht",
   "metadata": {},
   "outputs": [],
   "source": [
    "# adding the BOP data to the UCLA data\n",
    "popdf = pd.concat([mainframe,reportcnt])\n",
    "popdf.date = [pd.to_datetime(x) for x in popdf.date]\n",
    "popdf = popdf.drop_duplicates()\n",
    "popdf = popdf.sort_values('date').reset_index()\n",
    "popdf = popdf.drop('index', axis = 1)\n",
    "popdf['year'] = [x.year for x in popdf.date]"
   ]
  },
  {
   "cell_type": "code",
   "execution_count": 25,
   "id": "phantom-travel",
   "metadata": {},
   "outputs": [
    {
     "data": {
      "text/html": [
       "<div>\n",
       "<style scoped>\n",
       "    .dataframe tbody tr th:only-of-type {\n",
       "        vertical-align: middle;\n",
       "    }\n",
       "\n",
       "    .dataframe tbody tr th {\n",
       "        vertical-align: top;\n",
       "    }\n",
       "\n",
       "    .dataframe thead th {\n",
       "        text-align: right;\n",
       "    }\n",
       "</style>\n",
       "<table border=\"1\" class=\"dataframe\">\n",
       "  <thead>\n",
       "    <tr style=\"text-align: right;\">\n",
       "      <th></th>\n",
       "      <th>total_population</th>\n",
       "      <th>bop_population</th>\n",
       "      <th>private_population</th>\n",
       "      <th>date</th>\n",
       "      <th>population</th>\n",
       "      <th>year</th>\n",
       "      <th>date_text</th>\n",
       "    </tr>\n",
       "  </thead>\n",
       "  <tbody>\n",
       "    <tr>\n",
       "      <th>100</th>\n",
       "      <td>156862.0</td>\n",
       "      <td>134447.0</td>\n",
       "      <td>6580.0</td>\n",
       "      <td>2021-12-02</td>\n",
       "      <td>134447</td>\n",
       "      <td>2021</td>\n",
       "      <td>NaN</td>\n",
       "    </tr>\n",
       "    <tr>\n",
       "      <th>101</th>\n",
       "      <td>156850.0</td>\n",
       "      <td>134384.0</td>\n",
       "      <td>6605.0</td>\n",
       "      <td>2021-12-09</td>\n",
       "      <td>134384</td>\n",
       "      <td>2021</td>\n",
       "      <td>NaN</td>\n",
       "    </tr>\n",
       "    <tr>\n",
       "      <th>102</th>\n",
       "      <td>157477.0</td>\n",
       "      <td>135033.0</td>\n",
       "      <td>6565.0</td>\n",
       "      <td>2021-12-16</td>\n",
       "      <td>135033</td>\n",
       "      <td>2021</td>\n",
       "      <td>NaN</td>\n",
       "    </tr>\n",
       "    <tr>\n",
       "      <th>103</th>\n",
       "      <td>157654.0</td>\n",
       "      <td>135334.0</td>\n",
       "      <td>6508.0</td>\n",
       "      <td>2021-12-30</td>\n",
       "      <td>135334</td>\n",
       "      <td>2021</td>\n",
       "      <td>NaN</td>\n",
       "    </tr>\n",
       "    <tr>\n",
       "      <th>104</th>\n",
       "      <td>157472.0</td>\n",
       "      <td>135380.0</td>\n",
       "      <td>6465.0</td>\n",
       "      <td>2022-01-06</td>\n",
       "      <td>135380</td>\n",
       "      <td>2022</td>\n",
       "      <td>NaN</td>\n",
       "    </tr>\n",
       "  </tbody>\n",
       "</table>\n",
       "</div>"
      ],
      "text/plain": [
       "     total_population  bop_population  private_population       date  \\\n",
       "100          156862.0        134447.0              6580.0 2021-12-02   \n",
       "101          156850.0        134384.0              6605.0 2021-12-09   \n",
       "102          157477.0        135033.0              6565.0 2021-12-16   \n",
       "103          157654.0        135334.0              6508.0 2021-12-30   \n",
       "104          157472.0        135380.0              6465.0 2022-01-06   \n",
       "\n",
       "     population  year date_text  \n",
       "100      134447  2021       NaN  \n",
       "101      134384  2021       NaN  \n",
       "102      135033  2021       NaN  \n",
       "103      135334  2021       NaN  \n",
       "104      135380  2022       NaN  "
      ]
     },
     "execution_count": 25,
     "metadata": {},
     "output_type": "execute_result"
    }
   ],
   "source": [
    "popdf.tail()"
   ]
  },
  {
   "cell_type": "code",
   "execution_count": 26,
   "id": "portable-period",
   "metadata": {
    "scrolled": false
   },
   "outputs": [
    {
     "data": {
      "image/png": "[encoded data removed]",
      "text/plain": [
       "<Figure size 432x288 with 1 Axes>"
      ]
     },
     "metadata": {
      "needs_background": "light"
     },
     "output_type": "display_data"
    }
   ],
   "source": [
    "# check to see if the two datasets form a smooth curve. \n",
    "plt.plot(popdf.date.to_numpy(), popdf.population.to_numpy())\n",
    "plt.ylim(bottom=0)\n",
    "plt.show()"
   ]
  },
  {
   "cell_type": "markdown",
   "id": "plastic-rogers",
   "metadata": {},
   "source": [
    "### Computing annualized average prison population\n",
    "Given prison population decreased significantly over the course of 2020 and 2021, we calculated an annualized average population for every year using all accessible datapoints throughout the year. We used linear interpolation and extrapolation to fill in the times when there's no data available."
   ]
  },
  {
   "cell_type": "markdown",
   "id": "cardiac-medicaid",
   "metadata": {},
   "source": [
    "#### Interpolate/extrapolate Jan 1 and Dec 31 values\n",
    "To calculate an annualized average, we needed to make sure that every year has values for the first and last day of the year. This datapoint doesn't exist for every year, so we used interpolation and extrapolation to fill in the blanks"
   ]
  },
  {
   "cell_type": "code",
   "execution_count": 27,
   "id": "polyphonic-functionality",
   "metadata": {},
   "outputs": [],
   "source": [
    "def get_bookends(year):\n",
    "    output = []\n",
    "    yeardf = popdf[popdf.year == year]\n",
    "    if year == 2015:\n",
    "#         Interpolate Dec. 31\n",
    "        if (yeardf.date.iloc[-1].month == 12) & (yeardf.date.iloc[-1].day == 31) == False:\n",
    "            # if not, then we interpolate\n",
    "            yearend = popdf[popdf.year == (year + 1)][['date','population']].iloc[0]\n",
    "            yeardf = yeardf.append(yearend).sort_values('date')\n",
    "            yeardf = yeardf.reset_index()\n",
    "            # calculate delta of days between first date of next year and last date of this year\n",
    "            delta1 = (yeardf.date.iloc[-1]-yeardf.date.iloc[-2]).days\n",
    "            # calculate delta of days between Dec 31 of this year and last date of this year\n",
    "            delta2 = (pd.to_datetime('12/31/' + str(year))- yeardf.date.iloc[-2]).days\n",
    "            # calculate the position of Dec 31\n",
    "            dec31pos = delta2/delta1\n",
    "            xp = [0,1]\n",
    "            fp = [yeardf.population.iloc[-2],yeardf.population.iloc[-1]]\n",
    "            dec31val = np.interp(dec31pos, xp, fp)\n",
    "            # append the interpolated value to yeardf\n",
    "            decdict = {'date':pd.to_datetime('12/31/' + str(year)),'population':dec31val}\n",
    "            output.append(decdict)\n",
    "        else:\n",
    "            dec31val = yeardf.population.iloc[-1]\n",
    "\n",
    "#         extrapolate Jan1 - since we don't have data for 2014\n",
    "        if (yeardf.date.iloc[0].month == 1) & (yeardf.date.iloc[0].day == 1) == False:\n",
    "#             # calculate delta of days between first date of this year and last date of last year\n",
    "            delta1 = (yeardf.date[0]-pd.to_datetime('01/01/' + str(year))).days\n",
    "            pos1 = delta1/365\n",
    "#             # calculate the position of Jan 1\n",
    "            jan1pos = 0\n",
    "            xp = [pos1,1] \n",
    "            fp = [yeardf.population[0],dec31val]\n",
    "            f = interpolate.interp1d(xp, fp, fill_value = \"extrapolate\")\n",
    "            jan1val = float(f(jan1pos))\n",
    "            # append the interpolated value to yeardf\n",
    "            jandict = {'date':pd.to_datetime('01/01/' + str(year)),'population':jan1val}\n",
    "            output.append(jandict)\n",
    "        else:\n",
    "            pass\n",
    "        \n",
    "    else: # for the rest of the years, use interpolation only\n",
    "        if (yeardf.date.iloc[0].month == 1) & (yeardf.date.iloc[0].day == 1) == False:\n",
    "            yearend = popdf[popdf.year == (year -1)][['date','population']].iloc[-1]\n",
    "            yeardf1 = yeardf.append(yearend).sort_values('date')\n",
    "            yeardf1 = yeardf1.reset_index()\n",
    "            # calculate delta of days between first date of this year and last date of last year\n",
    "            delta1 = (yeardf1.date[1]-yeardf1.date[0]).days\n",
    "            # calculate delta of days between Jan 1 of this year and last date of last year\n",
    "            delta2 = (pd.to_datetime('01/01/' + str(year))- yeardf1.date[0]).days\n",
    "            # calculate the position of Jan 1\n",
    "            jan1pos = delta2/delta1\n",
    "            xp = [0,1]\n",
    "            fp = [yeardf1.population[0],yeardf1.population[1]]\n",
    "            jan1val = np.interp(jan1pos, xp, fp)\n",
    "            # append the interpolated value to yeardf\n",
    "            jandict = {'date':pd.to_datetime('01/01/' + str(year)),'population':jan1val}\n",
    "            output.append(jandict)\n",
    "        else:\n",
    "            pass\n",
    "        if (yeardf.date.iloc[-1].month == 12) & (yeardf.date.iloc[-1].day == 31) == False:\n",
    "            # if not, then we interpolate\n",
    "            yearend = popdf[popdf.year == (year + 1)][['date','population']].iloc[0]\n",
    "            yeardf1 = yeardf.append(yearend).sort_values('date')\n",
    "            yeardf1 = yeardf1.reset_index()\n",
    "            # calculate delta of days between first date of next year and last date of this year\n",
    "            delta1 = (yeardf1.date.iloc[-1]-yeardf1.date.iloc[-2]).days\n",
    "            # calculate delta of days between Dec 31 of this year and last date of this year\n",
    "            delta2 = (pd.to_datetime('12/31/' + str(year))- yeardf1.date.iloc[-2]).days\n",
    "            # calculate the position of Dec 31\n",
    "            dec31pos = delta2/delta1\n",
    "            xp = [0,1]\n",
    "            fp = [yeardf1.population.iloc[-2],yeardf1.population.iloc[-1]]\n",
    "            dec31val = np.interp(dec31pos, xp, fp)\n",
    "            # append the interpolated value to yeardf\n",
    "            decdict = {'date':pd.to_datetime('12/31/' + str(year)),'population':dec31val}\n",
    "            output.append(decdict)\n",
    "        else:\n",
    "            pass\n",
    "\n",
    "    return output"
   ]
  },
  {
   "cell_type": "code",
   "execution_count": 28,
   "id": "athletic-andorra",
   "metadata": {},
   "outputs": [],
   "source": [
    "yearsarray = np.arange(2015,2022)"
   ]
  },
  {
   "cell_type": "code",
   "execution_count": 29,
   "id": "novel-indianapolis",
   "metadata": {},
   "outputs": [],
   "source": [
    "# compute the interpolated and extrapolated values for Jan 1 and Dec. 31 of each year\n",
    "bookends = []\n",
    "for year in yearsarray:\n",
    "    res = get_bookends(year)\n",
    "    bookends.append(res)\n",
    "\n",
    "nbookends = flatten(bookends)\n",
    "nbookendsdf = pd.DataFrame(nbookends)"
   ]
  },
  {
   "cell_type": "code",
   "execution_count": 30,
   "id": "unavailable-drawing",
   "metadata": {},
   "outputs": [],
   "source": [
    "# add the coomputed bookends to the population counts\n",
    "popdf1 = pd.concat([popdf,nbookendsdf])\n",
    "popdf1 = popdf1.sort_values('date')\n",
    "popdf1.year = [x.year for x in popdf1.date]"
   ]
  },
  {
   "cell_type": "markdown",
   "id": "electric-roberts",
   "metadata": {},
   "source": [
    "#### Calcuate an average yearly population with existing data points"
   ]
  },
  {
   "cell_type": "code",
   "execution_count": 31,
   "id": "phantom-ivory",
   "metadata": {},
   "outputs": [],
   "source": [
    "def avr_yr_pop(year):\n",
    "    # extract the data points for the year\n",
    "    yeardf = popdf1[popdf1.year == year][['date','population']]\n",
    "    yeardf = yeardf.reset_index()\n",
    "    totalarray = []\n",
    "    for i,r in yeardf.iterrows():\n",
    "        if i < len(yeardf)-1:\n",
    "            # mean of population between two dates\n",
    "            avrpop = (yeardf.population.iloc[i] + yeardf.population.iloc[i+1])/2\n",
    "            # number of days between two dates\n",
    "            days = (yeardf.date.iloc[i+1] - yeardf.date.iloc[i]).days\n",
    "            popbydays = avrpop * days\n",
    "            totalarray.append(popbydays)\n",
    "        else:\n",
    "            continue\n",
    "    sum1 = np.sum(totalarray)\n",
    "    # needed to add one day because the end date isn't included in the total count using the minus method.\n",
    "    dayinyear = (yeardf.date.max() - yeardf.date.min()).days +1\n",
    "    avroutput = sum1/dayinyear\n",
    "    yrdict = {}\n",
    "    yrdict['year'] = year\n",
    "    yrdict['average_pop'] = avroutput\n",
    "    return yrdict"
   ]
  },
  {
   "cell_type": "code",
   "execution_count": 32,
   "id": "speaking-handle",
   "metadata": {},
   "outputs": [],
   "source": [
    "avrlist = []"
   ]
  },
  {
   "cell_type": "code",
   "execution_count": 33,
   "id": "korean-speech",
   "metadata": {},
   "outputs": [],
   "source": [
    "for year in list(popdf1.year.unique()):\n",
    "    try:\n",
    "        res= avr_yr_pop(year)\n",
    "        avrlist.append(res)\n",
    "    except Exception:\n",
    "        continue"
   ]
  },
  {
   "cell_type": "code",
   "execution_count": 34,
   "id": "golden-tribune",
   "metadata": {},
   "outputs": [],
   "source": [
    "avrpopdf = pd.DataFrame(avrlist)"
   ]
  },
  {
   "cell_type": "code",
   "execution_count": 35,
   "id": "structured-mississippi",
   "metadata": {
    "scrolled": false
   },
   "outputs": [
    {
     "data": {
      "text/html": [
       "<div>\n",
       "<style scoped>\n",
       "    .dataframe tbody tr th:only-of-type {\n",
       "        vertical-align: middle;\n",
       "    }\n",
       "\n",
       "    .dataframe tbody tr th {\n",
       "        vertical-align: top;\n",
       "    }\n",
       "\n",
       "    .dataframe thead th {\n",
       "        text-align: right;\n",
       "    }\n",
       "</style>\n",
       "<table border=\"1\" class=\"dataframe\">\n",
       "  <thead>\n",
       "    <tr style=\"text-align: right;\">\n",
       "      <th></th>\n",
       "      <th>year</th>\n",
       "      <th>average_pop</th>\n",
       "    </tr>\n",
       "  </thead>\n",
       "  <tbody>\n",
       "    <tr>\n",
       "      <th>0</th>\n",
       "      <td>2015</td>\n",
       "      <td>167787.783033</td>\n",
       "    </tr>\n",
       "    <tr>\n",
       "      <th>1</th>\n",
       "      <td>2016</td>\n",
       "      <td>157202.300688</td>\n",
       "    </tr>\n",
       "    <tr>\n",
       "      <th>2</th>\n",
       "      <td>2017</td>\n",
       "      <td>153773.695221</td>\n",
       "    </tr>\n",
       "    <tr>\n",
       "      <th>3</th>\n",
       "      <td>2018</td>\n",
       "      <td>153779.063317</td>\n",
       "    </tr>\n",
       "    <tr>\n",
       "      <th>4</th>\n",
       "      <td>2019</td>\n",
       "      <td>150151.090077</td>\n",
       "    </tr>\n",
       "    <tr>\n",
       "      <th>5</th>\n",
       "      <td>2020</td>\n",
       "      <td>134152.087237</td>\n",
       "    </tr>\n",
       "    <tr>\n",
       "      <th>6</th>\n",
       "      <td>2021</td>\n",
       "      <td>128770.164384</td>\n",
       "    </tr>\n",
       "    <tr>\n",
       "      <th>7</th>\n",
       "      <td>2022</td>\n",
       "      <td>0.000000</td>\n",
       "    </tr>\n",
       "  </tbody>\n",
       "</table>\n",
       "</div>"
      ],
      "text/plain": [
       "   year    average_pop\n",
       "0  2015  167787.783033\n",
       "1  2016  157202.300688\n",
       "2  2017  153773.695221\n",
       "3  2018  153779.063317\n",
       "4  2019  150151.090077\n",
       "5  2020  134152.087237\n",
       "6  2021  128770.164384\n",
       "7  2022       0.000000"
      ]
     },
     "execution_count": 35,
     "metadata": {},
     "output_type": "execute_result"
    }
   ],
   "source": [
    "avrpopdf"
   ]
  },
  {
   "cell_type": "markdown",
   "id": "architectural-application",
   "metadata": {},
   "source": [
    "### Calculate standardized mortality ratio\n",
    "#### Importing age percentage breakdown of prison population, provided by the BOP"
   ]
  },
  {
   "cell_type": "code",
   "execution_count": 36,
   "id": "individual-explorer",
   "metadata": {},
   "outputs": [],
   "source": [
    "agedist1 = pd.merge(agedistmerge1, avrpopdf, on = 'year', how = 'left' )\n",
    "agedist1.columns = agedist1.columns.str.lower()\n",
    "agedist1['group_pop'] = agedist1.percent * agedist1.average_pop"
   ]
  },
  {
   "cell_type": "code",
   "execution_count": 37,
   "id": "amended-wales",
   "metadata": {},
   "outputs": [
    {
     "data": {
      "text/html": [
       "<div>\n",
       "<style scoped>\n",
       "    .dataframe tbody tr th:only-of-type {\n",
       "        vertical-align: middle;\n",
       "    }\n",
       "\n",
       "    .dataframe tbody tr th {\n",
       "        vertical-align: top;\n",
       "    }\n",
       "\n",
       "    .dataframe thead th {\n",
       "        text-align: right;\n",
       "    }\n",
       "</style>\n",
       "<table border=\"1\" class=\"dataframe\">\n",
       "  <thead>\n",
       "    <tr style=\"text-align: right;\">\n",
       "      <th></th>\n",
       "      <th>year</th>\n",
       "      <th>age</th>\n",
       "      <th>percent</th>\n",
       "      <th>average_pop</th>\n",
       "      <th>group_pop</th>\n",
       "    </tr>\n",
       "  </thead>\n",
       "  <tbody>\n",
       "    <tr>\n",
       "      <th>106</th>\n",
       "      <td>2015</td>\n",
       "      <td>70 - 74</td>\n",
       "      <td>0.007777</td>\n",
       "      <td>167787.783033</td>\n",
       "      <td>1304.838538</td>\n",
       "    </tr>\n",
       "    <tr>\n",
       "      <th>107</th>\n",
       "      <td>2015</td>\n",
       "      <td>75 - 79</td>\n",
       "      <td>0.002614</td>\n",
       "      <td>167787.783033</td>\n",
       "      <td>438.678167</td>\n",
       "    </tr>\n",
       "    <tr>\n",
       "      <th>108</th>\n",
       "      <td>2015</td>\n",
       "      <td>80 - 84</td>\n",
       "      <td>0.000813</td>\n",
       "      <td>167787.783033</td>\n",
       "      <td>136.387179</td>\n",
       "    </tr>\n",
       "    <tr>\n",
       "      <th>109</th>\n",
       "      <td>2015</td>\n",
       "      <td>85 - 89</td>\n",
       "      <td>0.000158</td>\n",
       "      <td>167787.783033</td>\n",
       "      <td>26.463184</td>\n",
       "    </tr>\n",
       "    <tr>\n",
       "      <th>110</th>\n",
       "      <td>2015</td>\n",
       "      <td>90 - 94</td>\n",
       "      <td>0.000036</td>\n",
       "      <td>167787.783033</td>\n",
       "      <td>6.106889</td>\n",
       "    </tr>\n",
       "  </tbody>\n",
       "</table>\n",
       "</div>"
      ],
      "text/plain": [
       "     year      age   percent    average_pop    group_pop\n",
       "106  2015  70 - 74  0.007777  167787.783033  1304.838538\n",
       "107  2015  75 - 79  0.002614  167787.783033   438.678167\n",
       "108  2015  80 - 84  0.000813  167787.783033   136.387179\n",
       "109  2015  85 - 89  0.000158  167787.783033    26.463184\n",
       "110  2015  90 - 94  0.000036  167787.783033     6.106889"
      ]
     },
     "execution_count": 37,
     "metadata": {},
     "output_type": "execute_result"
    }
   ],
   "source": [
    "agedist1.tail()"
   ]
  },
  {
   "cell_type": "code",
   "execution_count": 38,
   "id": "voluntary-posting",
   "metadata": {},
   "outputs": [],
   "source": [
    "agedist1 = agedist1.rename(columns= {'age':'age_group'})\n",
    "agedist1.age_group = agedist1.age_group.str.replace('-','–')\n",
    "agedist1.age_group = agedist1.age_group.str.replace(' ','')\n",
    "agedist1.age_group = agedist1.age_group.str.replace('<=19','0–19')\n",
    "agedist1.age_group = agedist1.age_group.str.strip()"
   ]
  },
  {
   "cell_type": "markdown",
   "id": "exceptional-spencer",
   "metadata": {},
   "source": [
    "#### Categorize age groups of each death"
   ]
  },
  {
   "cell_type": "code",
   "execution_count": 39,
   "id": "demanding-bumper",
   "metadata": {},
   "outputs": [],
   "source": [
    "deathmaster['age_group'] = ''"
   ]
  },
  {
   "cell_type": "code",
   "execution_count": 40,
   "id": "reported-sweet",
   "metadata": {},
   "outputs": [],
   "source": [
    "agegroups = agedist1[['age_group']].copy().drop_duplicates()\n",
    "agegroups['minage'] = [x.split('–')[0] for x in agegroups.age_group]\n",
    "agegroups['maxage'] = [x.split('–')[1] for x in agegroups.age_group]\n",
    "agegroups.minage = agegroups.minage.str.strip()\n",
    "agegroups.minage = agegroups.minage.astype('float')\n",
    "agegroups.maxage = agegroups.maxage.str.strip()\n",
    "agegroups.maxage = agegroups.maxage.astype('float')"
   ]
  },
  {
   "cell_type": "code",
   "execution_count": 41,
   "id": "respected-chair",
   "metadata": {},
   "outputs": [],
   "source": [
    "# https://pandas.pydata.org/pandas-docs/stable/reference/api/pandas.cut.html\n",
    "bins= list(agegroups.minage)\n",
    "bins.append(150)\n",
    "labels = list(agegroups.age_group)\n",
    "deathmaster['age_group'] = pd.cut(deathmaster['age'], bins=bins, labels=labels, right=False)"
   ]
  },
  {
   "cell_type": "code",
   "execution_count": 42,
   "id": "placed-block",
   "metadata": {},
   "outputs": [
    {
     "data": {
      "text/html": [
       "<div>\n",
       "<style scoped>\n",
       "    .dataframe tbody tr th:only-of-type {\n",
       "        vertical-align: middle;\n",
       "    }\n",
       "\n",
       "    .dataframe tbody tr th {\n",
       "        vertical-align: top;\n",
       "    }\n",
       "\n",
       "    .dataframe thead th {\n",
       "        text-align: right;\n",
       "    }\n",
       "</style>\n",
       "<table border=\"1\" class=\"dataframe\">\n",
       "  <thead>\n",
       "    <tr style=\"text-align: right;\">\n",
       "      <th></th>\n",
       "      <th>InstID</th>\n",
       "      <th>RegisterNum</th>\n",
       "      <th>DOD</th>\n",
       "      <th>age</th>\n",
       "      <th>api_sex</th>\n",
       "      <th>api_race</th>\n",
       "      <th>year</th>\n",
       "      <th>age_group</th>\n",
       "    </tr>\n",
       "  </thead>\n",
       "  <tbody>\n",
       "    <tr>\n",
       "      <th>424</th>\n",
       "      <td>FTW</td>\n",
       "      <td>21980-112</td>\n",
       "      <td>2015-11-26</td>\n",
       "      <td>97.0</td>\n",
       "      <td>Male</td>\n",
       "      <td>White</td>\n",
       "      <td>2015</td>\n",
       "      <td>90–94</td>\n",
       "    </tr>\n",
       "    <tr>\n",
       "      <th>1527</th>\n",
       "      <td>SPG</td>\n",
       "      <td>49224-079</td>\n",
       "      <td>2018-09-20</td>\n",
       "      <td>96.0</td>\n",
       "      <td>Male</td>\n",
       "      <td>White</td>\n",
       "      <td>2018</td>\n",
       "      <td>90–94</td>\n",
       "    </tr>\n",
       "    <tr>\n",
       "      <th>357</th>\n",
       "      <td>BUH</td>\n",
       "      <td>03366-018</td>\n",
       "      <td>2020-08-13</td>\n",
       "      <td>97.0</td>\n",
       "      <td>Male</td>\n",
       "      <td>White</td>\n",
       "      <td>2020</td>\n",
       "      <td>90–94</td>\n",
       "    </tr>\n",
       "  </tbody>\n",
       "</table>\n",
       "</div>"
      ],
      "text/plain": [
       "     InstID RegisterNum        DOD   age api_sex api_race  year age_group\n",
       "424     FTW   21980-112 2015-11-26  97.0    Male    White  2015     90–94\n",
       "1527    SPG   49224-079 2018-09-20  96.0    Male    White  2018     90–94\n",
       "357     BUH   03366-018 2020-08-13  97.0    Male    White  2020     90–94"
      ]
     },
     "execution_count": 42,
     "metadata": {},
     "output_type": "execute_result"
    }
   ],
   "source": [
    "deathmaster[deathmaster.age > 95]\n",
    "# since BOP's age frequency distribution did not include people aged 95 and above, we assume that they are counted in the highest age category possible"
   ]
  },
  {
   "cell_type": "markdown",
   "id": "norwegian-rouge",
   "metadata": {},
   "source": [
    "#### Calculate Mortality year to year\n",
    "https://www.ncbi.nlm.nih.gov/pmc/articles/PMC3406211/"
   ]
  },
  {
   "cell_type": "code",
   "execution_count": 43,
   "id": "lasting-dodge",
   "metadata": {},
   "outputs": [],
   "source": [
    "death_year_age = pd.DataFrame(deathmaster.groupby(['year','age_group']).RegisterNum.count())\n",
    "death_year_age = death_year_age.reset_index()\n",
    "death_year_age = death_year_age.rename(columns = {'RegisterNum':'deaths'})"
   ]
  },
  {
   "cell_type": "code",
   "execution_count": 44,
   "id": "altered-richmond",
   "metadata": {},
   "outputs": [],
   "source": [
    "agedist2 = pd.merge(agedist1, death_year_age, on = ['age_group','year'], how = 'left')"
   ]
  },
  {
   "cell_type": "code",
   "execution_count": 45,
   "id": "inner-absence",
   "metadata": {},
   "outputs": [],
   "source": [
    "# calculate death rate for each age group\n",
    "agedist2['mortality_per_100k'] = agedist2.deaths/agedist2.group_pop * 100000\n",
    "agedist2['mortality_rate'] =  agedist2.deaths/agedist2.group_pop"
   ]
  },
  {
   "cell_type": "code",
   "execution_count": 46,
   "id": "romantic-respect",
   "metadata": {},
   "outputs": [],
   "source": [
    "df = agedist2.pivot(index = 'age_group', columns = 'year', values = 'mortality_per_100k')"
   ]
  },
  {
   "cell_type": "code",
   "execution_count": 47,
   "id": "union-typing",
   "metadata": {},
   "outputs": [
    {
     "data": {
      "text/plain": [
       "<matplotlib.axes._subplots.AxesSubplot at 0x2570d0dc9e8>"
      ]
     },
     "execution_count": 47,
     "metadata": {},
     "output_type": "execute_result"
    },
    {
     "data": {
      "image/png": "[encoded data removed]",
      "text/plain": [
       "<Figure size 720x576 with 1 Axes>"
      ]
     },
     "metadata": {
      "needs_background": "light"
     },
     "output_type": "display_data"
    }
   ],
   "source": [
    "df.plot(figsize=(10, 8))"
   ]
  },
  {
   "cell_type": "code",
   "execution_count": 48,
   "id": "endangered-firewall",
   "metadata": {},
   "outputs": [
    {
     "data": {
      "text/html": [
       "<div>\n",
       "<style scoped>\n",
       "    .dataframe tbody tr th:only-of-type {\n",
       "        vertical-align: middle;\n",
       "    }\n",
       "\n",
       "    .dataframe tbody tr th {\n",
       "        vertical-align: top;\n",
       "    }\n",
       "\n",
       "    .dataframe thead th {\n",
       "        text-align: right;\n",
       "    }\n",
       "</style>\n",
       "<table border=\"1\" class=\"dataframe\">\n",
       "  <thead>\n",
       "    <tr style=\"text-align: right;\">\n",
       "      <th>year</th>\n",
       "      <th>2015</th>\n",
       "      <th>2016</th>\n",
       "      <th>2017</th>\n",
       "      <th>2018</th>\n",
       "      <th>2019</th>\n",
       "      <th>2020</th>\n",
       "      <th>2021</th>\n",
       "    </tr>\n",
       "    <tr>\n",
       "      <th>age_group</th>\n",
       "      <th></th>\n",
       "      <th></th>\n",
       "      <th></th>\n",
       "      <th></th>\n",
       "      <th></th>\n",
       "      <th></th>\n",
       "      <th></th>\n",
       "    </tr>\n",
       "  </thead>\n",
       "  <tbody>\n",
       "    <tr>\n",
       "      <th>0–19</th>\n",
       "      <td>0.000000</td>\n",
       "      <td>0.000000</td>\n",
       "      <td>0.000000</td>\n",
       "      <td>0.000000</td>\n",
       "      <td>0.000000</td>\n",
       "      <td>0.000000</td>\n",
       "      <td>0.000000</td>\n",
       "    </tr>\n",
       "    <tr>\n",
       "      <th>20–24</th>\n",
       "      <td>50.546471</td>\n",
       "      <td>42.521026</td>\n",
       "      <td>0.000000</td>\n",
       "      <td>15.137410</td>\n",
       "      <td>15.353898</td>\n",
       "      <td>56.876676</td>\n",
       "      <td>19.540016</td>\n",
       "    </tr>\n",
       "    <tr>\n",
       "      <th>25–29</th>\n",
       "      <td>25.093146</td>\n",
       "      <td>10.895638</td>\n",
       "      <td>33.111811</td>\n",
       "      <td>55.366992</td>\n",
       "      <td>22.827721</td>\n",
       "      <td>65.241396</td>\n",
       "      <td>21.144915</td>\n",
       "    </tr>\n",
       "    <tr>\n",
       "      <th>30–34</th>\n",
       "      <td>65.430928</td>\n",
       "      <td>49.679432</td>\n",
       "      <td>52.672781</td>\n",
       "      <td>45.184580</td>\n",
       "      <td>24.993342</td>\n",
       "      <td>49.985445</td>\n",
       "      <td>50.864004</td>\n",
       "    </tr>\n",
       "    <tr>\n",
       "      <th>35–39</th>\n",
       "      <td>47.606214</td>\n",
       "      <td>63.830046</td>\n",
       "      <td>48.404543</td>\n",
       "      <td>63.214593</td>\n",
       "      <td>84.594675</td>\n",
       "      <td>85.716944</td>\n",
       "      <td>134.171458</td>\n",
       "    </tr>\n",
       "    <tr>\n",
       "      <th>40–44</th>\n",
       "      <td>107.121674</td>\n",
       "      <td>121.501053</td>\n",
       "      <td>112.098650</td>\n",
       "      <td>110.688095</td>\n",
       "      <td>74.614300</td>\n",
       "      <td>142.833901</td>\n",
       "      <td>126.694160</td>\n",
       "    </tr>\n",
       "    <tr>\n",
       "      <th>45–49</th>\n",
       "      <td>148.731086</td>\n",
       "      <td>198.740914</td>\n",
       "      <td>140.076863</td>\n",
       "      <td>173.539762</td>\n",
       "      <td>163.243877</td>\n",
       "      <td>185.546447</td>\n",
       "      <td>201.569931</td>\n",
       "    </tr>\n",
       "    <tr>\n",
       "      <th>50–54</th>\n",
       "      <td>418.234670</td>\n",
       "      <td>373.793015</td>\n",
       "      <td>288.523761</td>\n",
       "      <td>328.707351</td>\n",
       "      <td>343.541516</td>\n",
       "      <td>468.583199</td>\n",
       "      <td>363.566003</td>\n",
       "    </tr>\n",
       "    <tr>\n",
       "      <th>55–59</th>\n",
       "      <td>666.803731</td>\n",
       "      <td>541.159114</td>\n",
       "      <td>646.455460</td>\n",
       "      <td>503.238922</td>\n",
       "      <td>516.957604</td>\n",
       "      <td>818.472009</td>\n",
       "      <td>615.191883</td>\n",
       "    </tr>\n",
       "    <tr>\n",
       "      <th>60–64</th>\n",
       "      <td>1200.454572</td>\n",
       "      <td>1155.808478</td>\n",
       "      <td>874.225611</td>\n",
       "      <td>778.330903</td>\n",
       "      <td>908.226182</td>\n",
       "      <td>1491.012215</td>\n",
       "      <td>1039.409234</td>\n",
       "    </tr>\n",
       "    <tr>\n",
       "      <th>65–69</th>\n",
       "      <td>1995.593173</td>\n",
       "      <td>1326.921591</td>\n",
       "      <td>1477.410811</td>\n",
       "      <td>1377.923871</td>\n",
       "      <td>1862.151171</td>\n",
       "      <td>2812.380877</td>\n",
       "      <td>1961.458476</td>\n",
       "    </tr>\n",
       "    <tr>\n",
       "      <th>70–74</th>\n",
       "      <td>2682.324209</td>\n",
       "      <td>1654.921781</td>\n",
       "      <td>2719.305491</td>\n",
       "      <td>2119.737082</td>\n",
       "      <td>3073.737857</td>\n",
       "      <td>4814.969921</td>\n",
       "      <td>2687.899039</td>\n",
       "    </tr>\n",
       "    <tr>\n",
       "      <th>75–79</th>\n",
       "      <td>4103.235893</td>\n",
       "      <td>3741.315449</td>\n",
       "      <td>4982.162241</td>\n",
       "      <td>3675.508577</td>\n",
       "      <td>4266.665015</td>\n",
       "      <td>6623.608120</td>\n",
       "      <td>7620.606356</td>\n",
       "    </tr>\n",
       "    <tr>\n",
       "      <th>80–84</th>\n",
       "      <td>4399.240473</td>\n",
       "      <td>5338.569353</td>\n",
       "      <td>8892.606027</td>\n",
       "      <td>5198.562458</td>\n",
       "      <td>5165.290679</td>\n",
       "      <td>9574.561858</td>\n",
       "      <td>8857.574344</td>\n",
       "    </tr>\n",
       "    <tr>\n",
       "      <th>85–89</th>\n",
       "      <td>18894.173826</td>\n",
       "      <td>7081.775672</td>\n",
       "      <td>19362.932478</td>\n",
       "      <td>12427.813376</td>\n",
       "      <td>24000.790309</td>\n",
       "      <td>25348.038765</td>\n",
       "      <td>7545.341108</td>\n",
       "    </tr>\n",
       "    <tr>\n",
       "      <th>90–94</th>\n",
       "      <td>16374.950649</td>\n",
       "      <td>16524.143234</td>\n",
       "      <td>0.000000</td>\n",
       "      <td>39769.002802</td>\n",
       "      <td>33143.948522</td>\n",
       "      <td>NaN</td>\n",
       "      <td>0.000000</td>\n",
       "    </tr>\n",
       "  </tbody>\n",
       "</table>\n",
       "</div>"
      ],
      "text/plain": [
       "year               2015          2016          2017          2018  \\\n",
       "age_group                                                           \n",
       "0–19           0.000000      0.000000      0.000000      0.000000   \n",
       "20–24         50.546471     42.521026      0.000000     15.137410   \n",
       "25–29         25.093146     10.895638     33.111811     55.366992   \n",
       "30–34         65.430928     49.679432     52.672781     45.184580   \n",
       "35–39         47.606214     63.830046     48.404543     63.214593   \n",
       "40–44        107.121674    121.501053    112.098650    110.688095   \n",
       "45–49        148.731086    198.740914    140.076863    173.539762   \n",
       "50–54        418.234670    373.793015    288.523761    328.707351   \n",
       "55–59        666.803731    541.159114    646.455460    503.238922   \n",
       "60–64       1200.454572   1155.808478    874.225611    778.330903   \n",
       "65–69       1995.593173   1326.921591   1477.410811   1377.923871   \n",
       "70–74       2682.324209   1654.921781   2719.305491   2119.737082   \n",
       "75–79       4103.235893   3741.315449   4982.162241   3675.508577   \n",
       "80–84       4399.240473   5338.569353   8892.606027   5198.562458   \n",
       "85–89      18894.173826   7081.775672  19362.932478  12427.813376   \n",
       "90–94      16374.950649  16524.143234      0.000000  39769.002802   \n",
       "\n",
       "year               2019          2020         2021  \n",
       "age_group                                           \n",
       "0–19           0.000000      0.000000     0.000000  \n",
       "20–24         15.353898     56.876676    19.540016  \n",
       "25–29         22.827721     65.241396    21.144915  \n",
       "30–34         24.993342     49.985445    50.864004  \n",
       "35–39         84.594675     85.716944   134.171458  \n",
       "40–44         74.614300    142.833901   126.694160  \n",
       "45–49        163.243877    185.546447   201.569931  \n",
       "50–54        343.541516    468.583199   363.566003  \n",
       "55–59        516.957604    818.472009   615.191883  \n",
       "60–64        908.226182   1491.012215  1039.409234  \n",
       "65–69       1862.151171   2812.380877  1961.458476  \n",
       "70–74       3073.737857   4814.969921  2687.899039  \n",
       "75–79       4266.665015   6623.608120  7620.606356  \n",
       "80–84       5165.290679   9574.561858  8857.574344  \n",
       "85–89      24000.790309  25348.038765  7545.341108  \n",
       "90–94      33143.948522           NaN     0.000000  "
      ]
     },
     "execution_count": 48,
     "metadata": {},
     "output_type": "execute_result"
    }
   ],
   "source": [
    "df"
   ]
  },
  {
   "cell_type": "markdown",
   "id": "economic-emperor",
   "metadata": {},
   "source": [
    "### Compare mortality rates during pandemic and five years prior\n",
    "#### 2020 to 2015-2019\n",
    "We used population between 2015 and 2019 as reference.<br>\n",
    "We also considered using US population as a reference population. Similar to previous studies, we found that expected deaths exceed actual deaths when using the US population as a reference. One of the reasons may be that many causes of death in the general population, like car accidents, don't exist in incarcerated environments. We also considered using age distribution of the US population as weights to calculate age-adjusted mortality rates, but decided against it because the age distribution of the US population differs significantly than the BOP prison population."
   ]
  },
  {
   "cell_type": "code",
   "execution_count": 49,
   "id": "specified-crystal",
   "metadata": {},
   "outputs": [],
   "source": [
    "ref = agedist2[agedist2.year < 2020].copy()"
   ]
  },
  {
   "cell_type": "code",
   "execution_count": 50,
   "id": "proper-athens",
   "metadata": {},
   "outputs": [],
   "source": [
    "std = pd.DataFrame(ref.groupby('age_group').deaths.sum()/ref.groupby('age_group').group_pop.sum())\n",
    "std.columns = ['expected_death_rate']"
   ]
  },
  {
   "cell_type": "code",
   "execution_count": 51,
   "id": "vietnamese-myanmar",
   "metadata": {},
   "outputs": [],
   "source": [
    "std['per_100k'] = std.expected_death_rate*100000"
   ]
  },
  {
   "cell_type": "code",
   "execution_count": 52,
   "id": "utility-avatar",
   "metadata": {},
   "outputs": [],
   "source": [
    "yr20 = agedist2[agedist2.year == 2020].copy()\n",
    "yr20_1 = yr20[['age_group','group_pop','deaths','mortality_rate']]"
   ]
  },
  {
   "cell_type": "code",
   "execution_count": 53,
   "id": "inner-laser",
   "metadata": {},
   "outputs": [],
   "source": [
    "yr20_1.columns = [x if x == 'age_group' else x + '_20' for x in yr20_1.columns ]"
   ]
  },
  {
   "cell_type": "code",
   "execution_count": 54,
   "id": "virtual-alignment",
   "metadata": {},
   "outputs": [],
   "source": [
    "std1 = pd.merge(std, yr20_1, on = 'age_group')\n",
    "std1['expected_deaths'] = std1.group_pop_20 * std1.expected_death_rate"
   ]
  },
  {
   "cell_type": "code",
   "execution_count": 55,
   "id": "acknowledged-gardening",
   "metadata": {
    "scrolled": false
   },
   "outputs": [
    {
     "data": {
      "text/plain": [
       "0.5012510567496664"
      ]
     },
     "execution_count": 55,
     "metadata": {},
     "output_type": "execute_result"
    }
   ],
   "source": [
    "std1.deaths_20.sum()/std1.expected_deaths.sum()-1"
   ]
  },
  {
   "cell_type": "code",
   "execution_count": 56,
   "id": "acceptable-habitat",
   "metadata": {},
   "outputs": [
    {
     "data": {
      "text/plain": [
       "307.74333041954253"
      ]
     },
     "execution_count": 56,
     "metadata": {},
     "output_type": "execute_result"
    }
   ],
   "source": [
    "std1.expected_deaths.sum()"
   ]
  },
  {
   "cell_type": "markdown",
   "id": "detailed-antenna",
   "metadata": {},
   "source": [
    "#### Compare 2021  to 2015-2019"
   ]
  },
  {
   "cell_type": "code",
   "execution_count": 57,
   "id": "complicated-township",
   "metadata": {},
   "outputs": [],
   "source": [
    "yr21 = agedist2[agedist2.year == 2021].copy()\n",
    "yr21_1 = yr21[['age_group','group_pop','deaths']].copy()"
   ]
  },
  {
   "cell_type": "code",
   "execution_count": 58,
   "id": "medieval-document",
   "metadata": {},
   "outputs": [],
   "source": [
    "std21 = pd.merge(std, yr21_1, on = 'age_group')\n",
    "std21['expected_deaths'] = std21.group_pop * std21.expected_death_rate"
   ]
  },
  {
   "cell_type": "code",
   "execution_count": 59,
   "id": "gorgeous-czech",
   "metadata": {},
   "outputs": [
    {
     "data": {
      "text/plain": [
       "295.2751330407082"
      ]
     },
     "execution_count": 59,
     "metadata": {},
     "output_type": "execute_result"
    }
   ],
   "source": [
    "std21.expected_deaths.sum()"
   ]
  },
  {
   "cell_type": "code",
   "execution_count": 60,
   "id": "fancy-floating",
   "metadata": {},
   "outputs": [
    {
     "data": {
      "text/plain": [
       "0.19888185759007215"
      ]
     },
     "execution_count": 60,
     "metadata": {},
     "output_type": "execute_result"
    }
   ],
   "source": [
    "std21.deaths.sum()/std21.expected_deaths.sum()-1"
   ]
  },
  {
   "cell_type": "markdown",
   "id": "based-marriage",
   "metadata": {},
   "source": [
    "#### Combining 2020 and 2021"
   ]
  },
  {
   "cell_type": "code",
   "execution_count": 61,
   "id": "internal-upgrade",
   "metadata": {
    "scrolled": true
   },
   "outputs": [
    {
     "data": {
      "text/plain": [
       "0.3531923969916524"
      ]
     },
     "execution_count": 61,
     "metadata": {},
     "output_type": "execute_result"
    }
   ],
   "source": [
    "((std21.deaths.sum() + std1.deaths_20.sum())/2)/((std21.expected_deaths.sum()+std1.expected_deaths.sum())/2)-1"
   ]
  },
  {
   "cell_type": "markdown",
   "id": "worldwide-burning",
   "metadata": {},
   "source": [
    "### Comparing age-adjusted mortality rates\n",
    "Using age distribution in 2015-2019 as weights"
   ]
  },
  {
   "cell_type": "code",
   "execution_count": 62,
   "id": "finished-banana",
   "metadata": {
    "scrolled": true
   },
   "outputs": [
    {
     "data": {
      "image/png": "[encoded data removed]",
      "text/plain": [
       "<Figure size 1440x360 with 1 Axes>"
      ]
     },
     "metadata": {
      "needs_background": "light"
     },
     "output_type": "display_data"
    },
    {
     "data": {
      "image/png": "[encoded data removed]",
      "text/plain": [
       "<Figure size 1440x360 with 1 Axes>"
      ]
     },
     "metadata": {
      "needs_background": "light"
     },
     "output_type": "display_data"
    },
    {
     "data": {
      "image/png": "[encoded data removed]",
      "text/plain": [
       "<Figure size 1440x360 with 1 Axes>"
      ]
     },
     "metadata": {
      "needs_background": "light"
     },
     "output_type": "display_data"
    },
    {
     "data": {
      "image/png": "[encoded data removed]",
      "text/plain": [
       "<Figure size 1440x360 with 1 Axes>"
      ]
     },
     "metadata": {
      "needs_background": "light"
     },
     "output_type": "display_data"
    },
    {
     "data": {
      "image/png": "[encoded data removed]",
      "text/plain": [
       "<Figure size 1440x360 with 1 Axes>"
      ]
     },
     "metadata": {
      "needs_background": "light"
     },
     "output_type": "display_data"
    },
    {
     "data": {
      "image/png": "[encoded data removed]",
      "text/plain": [
       "<Figure size 1440x360 with 1 Axes>"
      ]
     },
     "metadata": {
      "needs_background": "light"
     },
     "output_type": "display_data"
    },
    {
     "data": {
      "image/png": "[encoded data removed]",
      "text/plain": [
       "<Figure size 1440x360 with 1 Axes>"
      ]
     },
     "metadata": {
      "needs_background": "light"
     },
     "output_type": "display_data"
    }
   ],
   "source": [
    "# examining age distribution of all years\n",
    "for x in [2015,2016,2017,2018,2019,2020,2021]:\n",
    "    subgroup = agedist2[agedist2.year == x]\n",
    "    fig = plt.figure(figsize=(20,5))\n",
    "    ax = fig.add_subplot(321)\n",
    "    ax = sns.barplot(subgroup.age_group,subgroup.percent)\n",
    "    ax.set_title(x)"
   ]
  },
  {
   "cell_type": "code",
   "execution_count": 63,
   "id": "respected-moment",
   "metadata": {},
   "outputs": [],
   "source": [
    "# calculating the age-specific death rates in the refernce population - 2015-2019\n",
    "std = pd.DataFrame(ref.groupby('age_group')[['group_pop','average_pop','deaths']].sum())"
   ]
  },
  {
   "cell_type": "code",
   "execution_count": 64,
   "id": "atomic-anderson",
   "metadata": {},
   "outputs": [],
   "source": [
    "std['death_rate'] = std.deaths/std.group_pop\n",
    "std['pop_pct'] = std.group_pop/std.average_pop\n",
    "std['weighted_rate'] = std.death_rate * std.pop_pct"
   ]
  },
  {
   "cell_type": "code",
   "execution_count": 65,
   "id": "organized-joseph",
   "metadata": {
    "scrolled": false
   },
   "outputs": [
    {
     "data": {
      "text/html": [
       "<div>\n",
       "<style scoped>\n",
       "    .dataframe tbody tr th:only-of-type {\n",
       "        vertical-align: middle;\n",
       "    }\n",
       "\n",
       "    .dataframe tbody tr th {\n",
       "        vertical-align: top;\n",
       "    }\n",
       "\n",
       "    .dataframe thead th {\n",
       "        text-align: right;\n",
       "    }\n",
       "</style>\n",
       "<table border=\"1\" class=\"dataframe\">\n",
       "  <thead>\n",
       "    <tr style=\"text-align: right;\">\n",
       "      <th></th>\n",
       "      <th>group_pop</th>\n",
       "      <th>average_pop</th>\n",
       "      <th>deaths</th>\n",
       "      <th>death_rate</th>\n",
       "      <th>pop_pct</th>\n",
       "      <th>weighted_rate</th>\n",
       "    </tr>\n",
       "    <tr>\n",
       "      <th>age_group</th>\n",
       "      <th></th>\n",
       "      <th></th>\n",
       "      <th></th>\n",
       "      <th></th>\n",
       "      <th></th>\n",
       "      <th></th>\n",
       "    </tr>\n",
       "  </thead>\n",
       "  <tbody>\n",
       "    <tr>\n",
       "      <th>0–19</th>\n",
       "      <td>1329.705716</td>\n",
       "      <td>782693.932337</td>\n",
       "      <td>0</td>\n",
       "      <td>0.000000</td>\n",
       "      <td>0.001699</td>\n",
       "      <td>0.000000</td>\n",
       "    </tr>\n",
       "    <tr>\n",
       "      <th>20–24</th>\n",
       "      <td>35040.089634</td>\n",
       "      <td>782693.932337</td>\n",
       "      <td>9</td>\n",
       "      <td>0.000257</td>\n",
       "      <td>0.044769</td>\n",
       "      <td>0.000011</td>\n",
       "    </tr>\n",
       "    <tr>\n",
       "      <th>25–29</th>\n",
       "      <td>91986.009513</td>\n",
       "      <td>782693.932337</td>\n",
       "      <td>27</td>\n",
       "      <td>0.000294</td>\n",
       "      <td>0.117525</td>\n",
       "      <td>0.000034</td>\n",
       "    </tr>\n",
       "    <tr>\n",
       "      <th>30–34</th>\n",
       "      <td>128237.687452</td>\n",
       "      <td>782693.932337</td>\n",
       "      <td>62</td>\n",
       "      <td>0.000483</td>\n",
       "      <td>0.163841</td>\n",
       "      <td>0.000079</td>\n",
       "    </tr>\n",
       "    <tr>\n",
       "      <th>35–39</th>\n",
       "      <td>145860.853197</td>\n",
       "      <td>782693.932337</td>\n",
       "      <td>89</td>\n",
       "      <td>0.000610</td>\n",
       "      <td>0.186357</td>\n",
       "      <td>0.000114</td>\n",
       "    </tr>\n",
       "    <tr>\n",
       "      <th>40–44</th>\n",
       "      <td>123432.501984</td>\n",
       "      <td>782693.932337</td>\n",
       "      <td>130</td>\n",
       "      <td>0.001053</td>\n",
       "      <td>0.157702</td>\n",
       "      <td>0.000166</td>\n",
       "    </tr>\n",
       "    <tr>\n",
       "      <th>45–49</th>\n",
       "      <td>94069.946036</td>\n",
       "      <td>782693.932337</td>\n",
       "      <td>155</td>\n",
       "      <td>0.001648</td>\n",
       "      <td>0.120187</td>\n",
       "      <td>0.000198</td>\n",
       "    </tr>\n",
       "    <tr>\n",
       "      <th>50–54</th>\n",
       "      <td>66543.104956</td>\n",
       "      <td>782693.932337</td>\n",
       "      <td>234</td>\n",
       "      <td>0.003517</td>\n",
       "      <td>0.085018</td>\n",
       "      <td>0.000299</td>\n",
       "    </tr>\n",
       "    <tr>\n",
       "      <th>55–59</th>\n",
       "      <td>45067.723699</td>\n",
       "      <td>782693.932337</td>\n",
       "      <td>259</td>\n",
       "      <td>0.005747</td>\n",
       "      <td>0.057580</td>\n",
       "      <td>0.000331</td>\n",
       "    </tr>\n",
       "    <tr>\n",
       "      <th>60–64</th>\n",
       "      <td>26378.954936</td>\n",
       "      <td>782693.932337</td>\n",
       "      <td>259</td>\n",
       "      <td>0.009818</td>\n",
       "      <td>0.033703</td>\n",
       "      <td>0.000331</td>\n",
       "    </tr>\n",
       "    <tr>\n",
       "      <th>65–69</th>\n",
       "      <td>14465.085451</td>\n",
       "      <td>782693.932337</td>\n",
       "      <td>233</td>\n",
       "      <td>0.016108</td>\n",
       "      <td>0.018481</td>\n",
       "      <td>0.000298</td>\n",
       "    </tr>\n",
       "    <tr>\n",
       "      <th>70–74</th>\n",
       "      <td>6893.015841</td>\n",
       "      <td>782693.932337</td>\n",
       "      <td>169</td>\n",
       "      <td>0.024518</td>\n",
       "      <td>0.008807</td>\n",
       "      <td>0.000216</td>\n",
       "    </tr>\n",
       "    <tr>\n",
       "      <th>75–79</th>\n",
       "      <td>2504.787625</td>\n",
       "      <td>782693.932337</td>\n",
       "      <td>104</td>\n",
       "      <td>0.041520</td>\n",
       "      <td>0.003200</td>\n",
       "      <td>0.000133</td>\n",
       "    </tr>\n",
       "    <tr>\n",
       "      <th>80–84</th>\n",
       "      <td>711.220674</td>\n",
       "      <td>782693.932337</td>\n",
       "      <td>41</td>\n",
       "      <td>0.057647</td>\n",
       "      <td>0.000909</td>\n",
       "      <td>0.000052</td>\n",
       "    </tr>\n",
       "    <tr>\n",
       "      <th>85–89</th>\n",
       "      <td>147.043308</td>\n",
       "      <td>782693.932337</td>\n",
       "      <td>24</td>\n",
       "      <td>0.163217</td>\n",
       "      <td>0.000188</td>\n",
       "      <td>0.000031</td>\n",
       "    </tr>\n",
       "    <tr>\n",
       "      <th>90–94</th>\n",
       "      <td>26.202316</td>\n",
       "      <td>782693.932337</td>\n",
       "      <td>5</td>\n",
       "      <td>0.190823</td>\n",
       "      <td>0.000033</td>\n",
       "      <td>0.000006</td>\n",
       "    </tr>\n",
       "  </tbody>\n",
       "</table>\n",
       "</div>"
      ],
      "text/plain": [
       "               group_pop    average_pop  deaths  death_rate   pop_pct  \\\n",
       "age_group                                                               \n",
       "0–19         1329.705716  782693.932337       0    0.000000  0.001699   \n",
       "20–24       35040.089634  782693.932337       9    0.000257  0.044769   \n",
       "25–29       91986.009513  782693.932337      27    0.000294  0.117525   \n",
       "30–34      128237.687452  782693.932337      62    0.000483  0.163841   \n",
       "35–39      145860.853197  782693.932337      89    0.000610  0.186357   \n",
       "40–44      123432.501984  782693.932337     130    0.001053  0.157702   \n",
       "45–49       94069.946036  782693.932337     155    0.001648  0.120187   \n",
       "50–54       66543.104956  782693.932337     234    0.003517  0.085018   \n",
       "55–59       45067.723699  782693.932337     259    0.005747  0.057580   \n",
       "60–64       26378.954936  782693.932337     259    0.009818  0.033703   \n",
       "65–69       14465.085451  782693.932337     233    0.016108  0.018481   \n",
       "70–74        6893.015841  782693.932337     169    0.024518  0.008807   \n",
       "75–79        2504.787625  782693.932337     104    0.041520  0.003200   \n",
       "80–84         711.220674  782693.932337      41    0.057647  0.000909   \n",
       "85–89         147.043308  782693.932337      24    0.163217  0.000188   \n",
       "90–94          26.202316  782693.932337       5    0.190823  0.000033   \n",
       "\n",
       "           weighted_rate  \n",
       "age_group                 \n",
       "0–19            0.000000  \n",
       "20–24           0.000011  \n",
       "25–29           0.000034  \n",
       "30–34           0.000079  \n",
       "35–39           0.000114  \n",
       "40–44           0.000166  \n",
       "45–49           0.000198  \n",
       "50–54           0.000299  \n",
       "55–59           0.000331  \n",
       "60–64           0.000331  \n",
       "65–69           0.000298  \n",
       "70–74           0.000216  \n",
       "75–79           0.000133  \n",
       "80–84           0.000052  \n",
       "85–89           0.000031  \n",
       "90–94           0.000006  "
      ]
     },
     "execution_count": 65,
     "metadata": {},
     "output_type": "execute_result"
    }
   ],
   "source": [
    "std"
   ]
  },
  {
   "cell_type": "code",
   "execution_count": 66,
   "id": "mighty-bench",
   "metadata": {},
   "outputs": [
    {
     "data": {
      "text/plain": [
       "229.9749526134773"
      ]
     },
     "execution_count": 66,
     "metadata": {},
     "output_type": "execute_result"
    }
   ],
   "source": [
    "std.weighted_rate.sum()*100000"
   ]
  },
  {
   "cell_type": "markdown",
   "id": "ignored-hardwood",
   "metadata": {},
   "source": [
    "#### calculating age-adjusted death rate in 2020"
   ]
  },
  {
   "cell_type": "code",
   "execution_count": 67,
   "id": "homeless-twins",
   "metadata": {},
   "outputs": [],
   "source": [
    "yr20_3 = pd.merge(yr20_1, std, on = 'age_group', how = 'left')"
   ]
  },
  {
   "cell_type": "code",
   "execution_count": 68,
   "id": "compound-treatment",
   "metadata": {},
   "outputs": [],
   "source": [
    "yr20_3['weighted_rate'] = yr20_3.mortality_rate_20 * yr20_3.pop_pct"
   ]
  },
  {
   "cell_type": "code",
   "execution_count": 69,
   "id": "responsible-falls",
   "metadata": {},
   "outputs": [
    {
     "data": {
      "text/html": [
       "<div>\n",
       "<style scoped>\n",
       "    .dataframe tbody tr th:only-of-type {\n",
       "        vertical-align: middle;\n",
       "    }\n",
       "\n",
       "    .dataframe tbody tr th {\n",
       "        vertical-align: top;\n",
       "    }\n",
       "\n",
       "    .dataframe thead th {\n",
       "        text-align: right;\n",
       "    }\n",
       "</style>\n",
       "<table border=\"1\" class=\"dataframe\">\n",
       "  <thead>\n",
       "    <tr style=\"text-align: right;\">\n",
       "      <th></th>\n",
       "      <th>age_group</th>\n",
       "      <th>group_pop_20</th>\n",
       "      <th>deaths_20</th>\n",
       "      <th>mortality_rate_20</th>\n",
       "      <th>group_pop</th>\n",
       "      <th>average_pop</th>\n",
       "      <th>deaths</th>\n",
       "      <th>death_rate</th>\n",
       "      <th>pop_pct</th>\n",
       "      <th>weighted_rate</th>\n",
       "    </tr>\n",
       "  </thead>\n",
       "  <tbody>\n",
       "    <tr>\n",
       "      <th>0</th>\n",
       "      <td>0–19</td>\n",
       "      <td>125.332106</td>\n",
       "      <td>0</td>\n",
       "      <td>0.000000</td>\n",
       "      <td>1329.705716</td>\n",
       "      <td>782693.932337</td>\n",
       "      <td>0</td>\n",
       "      <td>0.000000</td>\n",
       "      <td>0.001699</td>\n",
       "      <td>0.000000</td>\n",
       "    </tr>\n",
       "    <tr>\n",
       "      <th>1</th>\n",
       "      <td>20–24</td>\n",
       "      <td>5274.569809</td>\n",
       "      <td>3</td>\n",
       "      <td>0.000569</td>\n",
       "      <td>35040.089634</td>\n",
       "      <td>782693.932337</td>\n",
       "      <td>9</td>\n",
       "      <td>0.000257</td>\n",
       "      <td>0.044769</td>\n",
       "      <td>0.000025</td>\n",
       "    </tr>\n",
       "    <tr>\n",
       "      <th>2</th>\n",
       "      <td>25–29</td>\n",
       "      <td>15327.691688</td>\n",
       "      <td>10</td>\n",
       "      <td>0.000652</td>\n",
       "      <td>91986.009513</td>\n",
       "      <td>782693.932337</td>\n",
       "      <td>27</td>\n",
       "      <td>0.000294</td>\n",
       "      <td>0.117525</td>\n",
       "      <td>0.000077</td>\n",
       "    </tr>\n",
       "    <tr>\n",
       "      <th>3</th>\n",
       "      <td>30–34</td>\n",
       "      <td>22006.405937</td>\n",
       "      <td>11</td>\n",
       "      <td>0.000500</td>\n",
       "      <td>128237.687452</td>\n",
       "      <td>782693.932337</td>\n",
       "      <td>62</td>\n",
       "      <td>0.000483</td>\n",
       "      <td>0.163841</td>\n",
       "      <td>0.000082</td>\n",
       "    </tr>\n",
       "    <tr>\n",
       "      <th>4</th>\n",
       "      <td>35–39</td>\n",
       "      <td>24499.240279</td>\n",
       "      <td>21</td>\n",
       "      <td>0.000857</td>\n",
       "      <td>145860.853197</td>\n",
       "      <td>782693.932337</td>\n",
       "      <td>89</td>\n",
       "      <td>0.000610</td>\n",
       "      <td>0.186357</td>\n",
       "      <td>0.000160</td>\n",
       "    </tr>\n",
       "    <tr>\n",
       "      <th>5</th>\n",
       "      <td>40–44</td>\n",
       "      <td>22403.644984</td>\n",
       "      <td>32</td>\n",
       "      <td>0.001428</td>\n",
       "      <td>123432.501984</td>\n",
       "      <td>782693.932337</td>\n",
       "      <td>130</td>\n",
       "      <td>0.001053</td>\n",
       "      <td>0.157702</td>\n",
       "      <td>0.000225</td>\n",
       "    </tr>\n",
       "    <tr>\n",
       "      <th>6</th>\n",
       "      <td>45–49</td>\n",
       "      <td>16707.406988</td>\n",
       "      <td>31</td>\n",
       "      <td>0.001855</td>\n",
       "      <td>94069.946036</td>\n",
       "      <td>782693.932337</td>\n",
       "      <td>155</td>\n",
       "      <td>0.001648</td>\n",
       "      <td>0.120187</td>\n",
       "      <td>0.000223</td>\n",
       "    </tr>\n",
       "    <tr>\n",
       "      <th>7</th>\n",
       "      <td>50–54</td>\n",
       "      <td>11310.691482</td>\n",
       "      <td>53</td>\n",
       "      <td>0.004686</td>\n",
       "      <td>66543.104956</td>\n",
       "      <td>782693.932337</td>\n",
       "      <td>234</td>\n",
       "      <td>0.003517</td>\n",
       "      <td>0.085018</td>\n",
       "      <td>0.000398</td>\n",
       "    </tr>\n",
       "    <tr>\n",
       "      <th>8</th>\n",
       "      <td>55–59</td>\n",
       "      <td>7819.448840</td>\n",
       "      <td>64</td>\n",
       "      <td>0.008185</td>\n",
       "      <td>45067.723699</td>\n",
       "      <td>782693.932337</td>\n",
       "      <td>259</td>\n",
       "      <td>0.005747</td>\n",
       "      <td>0.057580</td>\n",
       "      <td>0.000471</td>\n",
       "    </tr>\n",
       "    <tr>\n",
       "      <th>9</th>\n",
       "      <td>60–64</td>\n",
       "      <td>4627.728687</td>\n",
       "      <td>69</td>\n",
       "      <td>0.014910</td>\n",
       "      <td>26378.954936</td>\n",
       "      <td>782693.932337</td>\n",
       "      <td>259</td>\n",
       "      <td>0.009818</td>\n",
       "      <td>0.033703</td>\n",
       "      <td>0.000503</td>\n",
       "    </tr>\n",
       "    <tr>\n",
       "      <th>10</th>\n",
       "      <td>65–69</td>\n",
       "      <td>2311.209002</td>\n",
       "      <td>65</td>\n",
       "      <td>0.028124</td>\n",
       "      <td>14465.085451</td>\n",
       "      <td>782693.932337</td>\n",
       "      <td>233</td>\n",
       "      <td>0.016108</td>\n",
       "      <td>0.018481</td>\n",
       "      <td>0.000520</td>\n",
       "    </tr>\n",
       "    <tr>\n",
       "      <th>11</th>\n",
       "      <td>70–74</td>\n",
       "      <td>1163.039457</td>\n",
       "      <td>56</td>\n",
       "      <td>0.048150</td>\n",
       "      <td>6893.015841</td>\n",
       "      <td>782693.932337</td>\n",
       "      <td>169</td>\n",
       "      <td>0.024518</td>\n",
       "      <td>0.008807</td>\n",
       "      <td>0.000424</td>\n",
       "    </tr>\n",
       "    <tr>\n",
       "      <th>12</th>\n",
       "      <td>75–79</td>\n",
       "      <td>422.730323</td>\n",
       "      <td>28</td>\n",
       "      <td>0.066236</td>\n",
       "      <td>2504.787625</td>\n",
       "      <td>782693.932337</td>\n",
       "      <td>104</td>\n",
       "      <td>0.041520</td>\n",
       "      <td>0.003200</td>\n",
       "      <td>0.000212</td>\n",
       "    </tr>\n",
       "    <tr>\n",
       "      <th>13</th>\n",
       "      <td>80–84</td>\n",
       "      <td>125.332106</td>\n",
       "      <td>12</td>\n",
       "      <td>0.095746</td>\n",
       "      <td>711.220674</td>\n",
       "      <td>782693.932337</td>\n",
       "      <td>41</td>\n",
       "      <td>0.057647</td>\n",
       "      <td>0.000909</td>\n",
       "      <td>0.000087</td>\n",
       "    </tr>\n",
       "    <tr>\n",
       "      <th>14</th>\n",
       "      <td>85–89</td>\n",
       "      <td>27.615549</td>\n",
       "      <td>7</td>\n",
       "      <td>0.253480</td>\n",
       "      <td>147.043308</td>\n",
       "      <td>782693.932337</td>\n",
       "      <td>24</td>\n",
       "      <td>0.163217</td>\n",
       "      <td>0.000188</td>\n",
       "      <td>0.000048</td>\n",
       "    </tr>\n",
       "  </tbody>\n",
       "</table>\n",
       "</div>"
      ],
      "text/plain": [
       "   age_group  group_pop_20  deaths_20  mortality_rate_20      group_pop  \\\n",
       "0       0–19    125.332106          0           0.000000    1329.705716   \n",
       "1      20–24   5274.569809          3           0.000569   35040.089634   \n",
       "2      25–29  15327.691688         10           0.000652   91986.009513   \n",
       "3      30–34  22006.405937         11           0.000500  128237.687452   \n",
       "4      35–39  24499.240279         21           0.000857  145860.853197   \n",
       "5      40–44  22403.644984         32           0.001428  123432.501984   \n",
       "6      45–49  16707.406988         31           0.001855   94069.946036   \n",
       "7      50–54  11310.691482         53           0.004686   66543.104956   \n",
       "8      55–59   7819.448840         64           0.008185   45067.723699   \n",
       "9      60–64   4627.728687         69           0.014910   26378.954936   \n",
       "10     65–69   2311.209002         65           0.028124   14465.085451   \n",
       "11     70–74   1163.039457         56           0.048150    6893.015841   \n",
       "12     75–79    422.730323         28           0.066236    2504.787625   \n",
       "13     80–84    125.332106         12           0.095746     711.220674   \n",
       "14     85–89     27.615549          7           0.253480     147.043308   \n",
       "\n",
       "      average_pop  deaths  death_rate   pop_pct  weighted_rate  \n",
       "0   782693.932337       0    0.000000  0.001699       0.000000  \n",
       "1   782693.932337       9    0.000257  0.044769       0.000025  \n",
       "2   782693.932337      27    0.000294  0.117525       0.000077  \n",
       "3   782693.932337      62    0.000483  0.163841       0.000082  \n",
       "4   782693.932337      89    0.000610  0.186357       0.000160  \n",
       "5   782693.932337     130    0.001053  0.157702       0.000225  \n",
       "6   782693.932337     155    0.001648  0.120187       0.000223  \n",
       "7   782693.932337     234    0.003517  0.085018       0.000398  \n",
       "8   782693.932337     259    0.005747  0.057580       0.000471  \n",
       "9   782693.932337     259    0.009818  0.033703       0.000503  \n",
       "10  782693.932337     233    0.016108  0.018481       0.000520  \n",
       "11  782693.932337     169    0.024518  0.008807       0.000424  \n",
       "12  782693.932337     104    0.041520  0.003200       0.000212  \n",
       "13  782693.932337      41    0.057647  0.000909       0.000087  \n",
       "14  782693.932337      24    0.163217  0.000188       0.000048  "
      ]
     },
     "execution_count": 69,
     "metadata": {},
     "output_type": "execute_result"
    }
   ],
   "source": [
    "yr20_3"
   ]
  },
  {
   "cell_type": "code",
   "execution_count": 70,
   "id": "powerful-jacksonville",
   "metadata": {},
   "outputs": [
    {
     "data": {
      "text/plain": [
       "345.4598396629675"
      ]
     },
     "execution_count": 70,
     "metadata": {},
     "output_type": "execute_result"
    }
   ],
   "source": [
    "yr20_3.weighted_rate.sum()*100000"
   ]
  },
  {
   "cell_type": "code",
   "execution_count": 71,
   "id": "clinical-reverse",
   "metadata": {
    "scrolled": true
   },
   "outputs": [
    {
     "data": {
      "text/plain": [
       "0.5021628909457263"
      ]
     },
     "execution_count": 71,
     "metadata": {},
     "output_type": "execute_result"
    }
   ],
   "source": [
    "# difference between 2020 and 2015-2019\n",
    "yr20_3.weighted_rate.sum()/std.weighted_rate.sum()-1"
   ]
  },
  {
   "cell_type": "markdown",
   "id": "first-appraisal",
   "metadata": {},
   "source": [
    "#### calculating 2021"
   ]
  },
  {
   "cell_type": "code",
   "execution_count": 72,
   "id": "touched-drain",
   "metadata": {
    "scrolled": true
   },
   "outputs": [],
   "source": [
    "yr21_1['mortality_rate_21'] = yr21_1.deaths/yr21_1.group_pop"
   ]
  },
  {
   "cell_type": "code",
   "execution_count": 73,
   "id": "referenced-sense",
   "metadata": {},
   "outputs": [],
   "source": [
    "yr21_3 = pd.merge(yr21_1, std, on = 'age_group', how = 'left')\n",
    "yr21_3['weighted_rate'] = yr21_3.mortality_rate_21 * yr21_3.pop_pct"
   ]
  },
  {
   "cell_type": "code",
   "execution_count": 74,
   "id": "rising-cancer",
   "metadata": {},
   "outputs": [
    {
     "data": {
      "text/html": [
       "<div>\n",
       "<style scoped>\n",
       "    .dataframe tbody tr th:only-of-type {\n",
       "        vertical-align: middle;\n",
       "    }\n",
       "\n",
       "    .dataframe tbody tr th {\n",
       "        vertical-align: top;\n",
       "    }\n",
       "\n",
       "    .dataframe thead th {\n",
       "        text-align: right;\n",
       "    }\n",
       "</style>\n",
       "<table border=\"1\" class=\"dataframe\">\n",
       "  <thead>\n",
       "    <tr style=\"text-align: right;\">\n",
       "      <th></th>\n",
       "      <th>age_group</th>\n",
       "      <th>group_pop_x</th>\n",
       "      <th>deaths_x</th>\n",
       "      <th>mortality_rate_21</th>\n",
       "      <th>group_pop_y</th>\n",
       "      <th>average_pop</th>\n",
       "      <th>deaths_y</th>\n",
       "      <th>death_rate</th>\n",
       "      <th>pop_pct</th>\n",
       "      <th>weighted_rate</th>\n",
       "    </tr>\n",
       "  </thead>\n",
       "  <tbody>\n",
       "    <tr>\n",
       "      <th>0</th>\n",
       "      <td>0–19</td>\n",
       "      <td>134.495552</td>\n",
       "      <td>0</td>\n",
       "      <td>0.000000</td>\n",
       "      <td>1329.705716</td>\n",
       "      <td>782693.932337</td>\n",
       "      <td>0</td>\n",
       "      <td>0.000000</td>\n",
       "      <td>0.001699</td>\n",
       "      <td>0.000000</td>\n",
       "    </tr>\n",
       "    <tr>\n",
       "      <th>1</th>\n",
       "      <td>20–24</td>\n",
       "      <td>5117.702999</td>\n",
       "      <td>1</td>\n",
       "      <td>0.000195</td>\n",
       "      <td>35040.089634</td>\n",
       "      <td>782693.932337</td>\n",
       "      <td>9</td>\n",
       "      <td>0.000257</td>\n",
       "      <td>0.044769</td>\n",
       "      <td>0.000009</td>\n",
       "    </tr>\n",
       "    <tr>\n",
       "      <th>2</th>\n",
       "      <td>25–29</td>\n",
       "      <td>14187.808121</td>\n",
       "      <td>3</td>\n",
       "      <td>0.000211</td>\n",
       "      <td>91986.009513</td>\n",
       "      <td>782693.932337</td>\n",
       "      <td>27</td>\n",
       "      <td>0.000294</td>\n",
       "      <td>0.117525</td>\n",
       "      <td>0.000025</td>\n",
       "    </tr>\n",
       "    <tr>\n",
       "      <th>3</th>\n",
       "      <td>30–34</td>\n",
       "      <td>21626.295676</td>\n",
       "      <td>11</td>\n",
       "      <td>0.000509</td>\n",
       "      <td>128237.687452</td>\n",
       "      <td>782693.932337</td>\n",
       "      <td>62</td>\n",
       "      <td>0.000483</td>\n",
       "      <td>0.163841</td>\n",
       "      <td>0.000083</td>\n",
       "    </tr>\n",
       "    <tr>\n",
       "      <th>4</th>\n",
       "      <td>35–39</td>\n",
       "      <td>23104.765025</td>\n",
       "      <td>31</td>\n",
       "      <td>0.001342</td>\n",
       "      <td>145860.853197</td>\n",
       "      <td>782693.932337</td>\n",
       "      <td>89</td>\n",
       "      <td>0.000610</td>\n",
       "      <td>0.186357</td>\n",
       "      <td>0.000250</td>\n",
       "    </tr>\n",
       "    <tr>\n",
       "      <th>5</th>\n",
       "      <td>40–44</td>\n",
       "      <td>22100.466124</td>\n",
       "      <td>28</td>\n",
       "      <td>0.001267</td>\n",
       "      <td>123432.501984</td>\n",
       "      <td>782693.932337</td>\n",
       "      <td>130</td>\n",
       "      <td>0.001053</td>\n",
       "      <td>0.157702</td>\n",
       "      <td>0.000200</td>\n",
       "    </tr>\n",
       "    <tr>\n",
       "      <th>6</th>\n",
       "      <td>45–49</td>\n",
       "      <td>15875.383693</td>\n",
       "      <td>32</td>\n",
       "      <td>0.002016</td>\n",
       "      <td>94069.946036</td>\n",
       "      <td>782693.932337</td>\n",
       "      <td>155</td>\n",
       "      <td>0.001648</td>\n",
       "      <td>0.120187</td>\n",
       "      <td>0.000242</td>\n",
       "    </tr>\n",
       "    <tr>\n",
       "      <th>7</th>\n",
       "      <td>50–54</td>\n",
       "      <td>11002.128814</td>\n",
       "      <td>40</td>\n",
       "      <td>0.003636</td>\n",
       "      <td>66543.104956</td>\n",
       "      <td>782693.932337</td>\n",
       "      <td>234</td>\n",
       "      <td>0.003517</td>\n",
       "      <td>0.085018</td>\n",
       "      <td>0.000309</td>\n",
       "    </tr>\n",
       "    <tr>\n",
       "      <th>8</th>\n",
       "      <td>55–59</td>\n",
       "      <td>7314.790916</td>\n",
       "      <td>45</td>\n",
       "      <td>0.006152</td>\n",
       "      <td>45067.723699</td>\n",
       "      <td>782693.932337</td>\n",
       "      <td>259</td>\n",
       "      <td>0.005747</td>\n",
       "      <td>0.057580</td>\n",
       "      <td>0.000354</td>\n",
       "    </tr>\n",
       "    <tr>\n",
       "      <th>9</th>\n",
       "      <td>60–64</td>\n",
       "      <td>4425.590853</td>\n",
       "      <td>46</td>\n",
       "      <td>0.010394</td>\n",
       "      <td>26378.954936</td>\n",
       "      <td>782693.932337</td>\n",
       "      <td>259</td>\n",
       "      <td>0.009818</td>\n",
       "      <td>0.033703</td>\n",
       "      <td>0.000350</td>\n",
       "    </tr>\n",
       "    <tr>\n",
       "      <th>10</th>\n",
       "      <td>65–69</td>\n",
       "      <td>2243.228727</td>\n",
       "      <td>44</td>\n",
       "      <td>0.019615</td>\n",
       "      <td>14465.085451</td>\n",
       "      <td>782693.932337</td>\n",
       "      <td>233</td>\n",
       "      <td>0.016108</td>\n",
       "      <td>0.018481</td>\n",
       "      <td>0.000363</td>\n",
       "    </tr>\n",
       "    <tr>\n",
       "      <th>11</th>\n",
       "      <td>70–74</td>\n",
       "      <td>1078.909571</td>\n",
       "      <td>29</td>\n",
       "      <td>0.026879</td>\n",
       "      <td>6893.015841</td>\n",
       "      <td>782693.932337</td>\n",
       "      <td>169</td>\n",
       "      <td>0.024518</td>\n",
       "      <td>0.008807</td>\n",
       "      <td>0.000237</td>\n",
       "    </tr>\n",
       "    <tr>\n",
       "      <th>12</th>\n",
       "      <td>75–79</td>\n",
       "      <td>393.669461</td>\n",
       "      <td>30</td>\n",
       "      <td>0.076206</td>\n",
       "      <td>2504.787625</td>\n",
       "      <td>782693.932337</td>\n",
       "      <td>104</td>\n",
       "      <td>0.041520</td>\n",
       "      <td>0.003200</td>\n",
       "      <td>0.000244</td>\n",
       "    </tr>\n",
       "    <tr>\n",
       "      <th>13</th>\n",
       "      <td>80–84</td>\n",
       "      <td>135.477271</td>\n",
       "      <td>12</td>\n",
       "      <td>0.088576</td>\n",
       "      <td>711.220674</td>\n",
       "      <td>782693.932337</td>\n",
       "      <td>41</td>\n",
       "      <td>0.057647</td>\n",
       "      <td>0.000909</td>\n",
       "      <td>0.000080</td>\n",
       "    </tr>\n",
       "    <tr>\n",
       "      <th>14</th>\n",
       "      <td>85–89</td>\n",
       "      <td>26.506423</td>\n",
       "      <td>2</td>\n",
       "      <td>0.075453</td>\n",
       "      <td>147.043308</td>\n",
       "      <td>782693.932337</td>\n",
       "      <td>24</td>\n",
       "      <td>0.163217</td>\n",
       "      <td>0.000188</td>\n",
       "      <td>0.000014</td>\n",
       "    </tr>\n",
       "    <tr>\n",
       "      <th>15</th>\n",
       "      <td>90–94</td>\n",
       "      <td>2.945158</td>\n",
       "      <td>0</td>\n",
       "      <td>0.000000</td>\n",
       "      <td>26.202316</td>\n",
       "      <td>782693.932337</td>\n",
       "      <td>5</td>\n",
       "      <td>0.190823</td>\n",
       "      <td>0.000033</td>\n",
       "      <td>0.000000</td>\n",
       "    </tr>\n",
       "  </tbody>\n",
       "</table>\n",
       "</div>"
      ],
      "text/plain": [
       "   age_group   group_pop_x  deaths_x  mortality_rate_21    group_pop_y  \\\n",
       "0       0–19    134.495552         0           0.000000    1329.705716   \n",
       "1      20–24   5117.702999         1           0.000195   35040.089634   \n",
       "2      25–29  14187.808121         3           0.000211   91986.009513   \n",
       "3      30–34  21626.295676        11           0.000509  128237.687452   \n",
       "4      35–39  23104.765025        31           0.001342  145860.853197   \n",
       "5      40–44  22100.466124        28           0.001267  123432.501984   \n",
       "6      45–49  15875.383693        32           0.002016   94069.946036   \n",
       "7      50–54  11002.128814        40           0.003636   66543.104956   \n",
       "8      55–59   7314.790916        45           0.006152   45067.723699   \n",
       "9      60–64   4425.590853        46           0.010394   26378.954936   \n",
       "10     65–69   2243.228727        44           0.019615   14465.085451   \n",
       "11     70–74   1078.909571        29           0.026879    6893.015841   \n",
       "12     75–79    393.669461        30           0.076206    2504.787625   \n",
       "13     80–84    135.477271        12           0.088576     711.220674   \n",
       "14     85–89     26.506423         2           0.075453     147.043308   \n",
       "15     90–94      2.945158         0           0.000000      26.202316   \n",
       "\n",
       "      average_pop  deaths_y  death_rate   pop_pct  weighted_rate  \n",
       "0   782693.932337         0    0.000000  0.001699       0.000000  \n",
       "1   782693.932337         9    0.000257  0.044769       0.000009  \n",
       "2   782693.932337        27    0.000294  0.117525       0.000025  \n",
       "3   782693.932337        62    0.000483  0.163841       0.000083  \n",
       "4   782693.932337        89    0.000610  0.186357       0.000250  \n",
       "5   782693.932337       130    0.001053  0.157702       0.000200  \n",
       "6   782693.932337       155    0.001648  0.120187       0.000242  \n",
       "7   782693.932337       234    0.003517  0.085018       0.000309  \n",
       "8   782693.932337       259    0.005747  0.057580       0.000354  \n",
       "9   782693.932337       259    0.009818  0.033703       0.000350  \n",
       "10  782693.932337       233    0.016108  0.018481       0.000363  \n",
       "11  782693.932337       169    0.024518  0.008807       0.000237  \n",
       "12  782693.932337       104    0.041520  0.003200       0.000244  \n",
       "13  782693.932337        41    0.057647  0.000909       0.000080  \n",
       "14  782693.932337        24    0.163217  0.000188       0.000014  \n",
       "15  782693.932337         5    0.190823  0.000033       0.000000  "
      ]
     },
     "execution_count": 74,
     "metadata": {},
     "output_type": "execute_result"
    }
   ],
   "source": [
    "yr21_3"
   ]
  },
  {
   "cell_type": "code",
   "execution_count": 75,
   "id": "ambient-winner",
   "metadata": {},
   "outputs": [
    {
     "data": {
      "text/plain": [
       "0.0027604255268792676"
      ]
     },
     "execution_count": 75,
     "metadata": {},
     "output_type": "execute_result"
    }
   ],
   "source": [
    "yr21_3.weighted_rate.sum()"
   ]
  },
  {
   "cell_type": "code",
   "execution_count": 76,
   "id": "administrative-beads",
   "metadata": {
    "scrolled": true
   },
   "outputs": [
    {
     "data": {
      "text/plain": [
       "0.20031572808659748"
      ]
     },
     "execution_count": 76,
     "metadata": {},
     "output_type": "execute_result"
    }
   ],
   "source": [
    "# difference between 2021 and 2015-2019\n",
    "yr21_3.weighted_rate.sum()/std.weighted_rate.sum()-1"
   ]
  }
 ],
 "metadata": {
  "kernelspec": {
   "display_name": "Python 3",
   "language": "python",
   "name": "python3"
  },
  "language_info": {
   "codemirror_mode": {
    "name": "ipython",
    "version": 3
   },
   "file_extension": ".py",
   "mimetype": "text/x-python",
   "name": "python",
   "nbconvert_exporter": "python",
   "pygments_lexer": "ipython3",
   "version": "3.6.12"
  }
 },
 "nbformat": 4,
 "nbformat_minor": 5
}
